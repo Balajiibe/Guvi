{
  "cells": [
    {
      "cell_type": "markdown",
      "metadata": {
        "id": "view-in-github",
        "colab_type": "text"
      },
      "source": [
        "<a href=\"https://colab.research.google.com/github/Balajiibe/Guvi/blob/main/Copy_of_Numpy_tasks.ipynb\" target=\"_parent\"><img src=\"https://colab.research.google.com/assets/colab-badge.svg\" alt=\"Open In Colab\"/></a>"
      ]
    },
    {
      "cell_type": "markdown",
      "metadata": {
        "id": "BSb8o0LX2xNJ"
      },
      "source": [
        "# Numpy\n",
        "\n"
      ]
    },
    {
      "cell_type": "markdown",
      "metadata": {
        "id": "X8ODaLPC2xNL"
      },
      "source": [
        "#### 1. Import the numpy package under the name `np` (★☆☆) \n",
        "(**hint**: import … as …)"
      ]
    },
    {
      "cell_type": "code",
      "execution_count": 1,
      "metadata": {
        "collapsed": true,
        "id": "E7DiO02m2xNM"
      },
      "outputs": [],
      "source": [
        "import numpy as np"
      ]
    },
    {
      "cell_type": "markdown",
      "metadata": {
        "id": "IWyNa6wt2xNN"
      },
      "source": [
        "#### 2. Print the numpy version and the configuration (★☆☆) \n",
        "(**hint**: np.\\_\\_version\\_\\_, np.show\\_config)"
      ]
    },
    {
      "cell_type": "code",
      "execution_count": 4,
      "metadata": {
        "id": "bs93ZvDg2xNN",
        "colab": {
          "base_uri": "https://localhost:8080/"
        },
        "outputId": "b35c9460-c7b3-4ca4-ead1-7f2f729da613"
      },
      "outputs": [
        {
          "output_type": "execute_result",
          "data": {
            "text/plain": [
              "<function numpy.__config__.show()>"
            ]
          },
          "metadata": {},
          "execution_count": 4
        }
      ],
      "source": [
        "print(np.__version__)\n",
        "np.show_config"
      ]
    },
    {
      "cell_type": "markdown",
      "metadata": {
        "id": "mxBqFf6N2xNN"
      },
      "source": [
        "#### 3. Create a null vector of size 10 (★☆☆) \n",
        "(**hint**: np.zeros)"
      ]
    },
    {
      "cell_type": "code",
      "execution_count": 6,
      "metadata": {
        "id": "GJdzY2MA2xNO",
        "colab": {
          "base_uri": "https://localhost:8080/"
        },
        "outputId": "7949319b-25b6-4360-844f-fa08af65d789"
      },
      "outputs": [
        {
          "output_type": "execute_result",
          "data": {
            "text/plain": [
              "array([0., 0., 0., 0., 0., 0., 0., 0., 0., 0.])"
            ]
          },
          "metadata": {},
          "execution_count": 6
        }
      ],
      "source": [
        "ar=np.zeros(10)\n",
        "ar"
      ]
    },
    {
      "cell_type": "markdown",
      "metadata": {
        "id": "rRK9IfX02xNO"
      },
      "source": [
        "#### 4.  How to find the memory size of any array (★☆☆) \n",
        "(**hint**: size, itemsize)"
      ]
    },
    {
      "cell_type": "code",
      "execution_count": 7,
      "metadata": {
        "id": "tKpKlUyT2xNP",
        "colab": {
          "base_uri": "https://localhost:8080/"
        },
        "outputId": "d24dc055-af99-4acc-b004-241c6c97042e"
      },
      "outputs": [
        {
          "output_type": "execute_result",
          "data": {
            "text/plain": [
              "10"
            ]
          },
          "metadata": {},
          "execution_count": 7
        }
      ],
      "source": [
        "ar.size"
      ]
    },
    {
      "cell_type": "markdown",
      "metadata": {
        "id": "5XbL-nYJ2xNP"
      },
      "source": [
        "#### 5.  How to get the documentation of the numpy add function from the command line? (★☆☆) \n",
        "(**hint**: np.info)"
      ]
    },
    {
      "cell_type": "code",
      "execution_count": 9,
      "metadata": {
        "collapsed": true,
        "id": "Rq1pyd0z2xNP",
        "colab": {
          "base_uri": "https://localhost:8080/"
        },
        "outputId": "c96cd257-9825-4dbb-a3a1-148f521dfd9e"
      },
      "outputs": [
        {
          "output_type": "stream",
          "name": "stdout",
          "text": [
            "Help on ufunc object:\n",
            "\n",
            "add = class ufunc(builtins.object)\n",
            " |  Functions that operate element by element on whole arrays.\n",
            " |  \n",
            " |  To see the documentation for a specific ufunc, use `info`.  For\n",
            " |  example, ``np.info(np.sin)``.  Because ufuncs are written in C\n",
            " |  (for speed) and linked into Python with NumPy's ufunc facility,\n",
            " |  Python's help() function finds this page whenever help() is called\n",
            " |  on a ufunc.\n",
            " |  \n",
            " |  A detailed explanation of ufuncs can be found in the docs for :ref:`ufuncs`.\n",
            " |  \n",
            " |  **Calling ufuncs:** ``op(*x[, out], where=True, **kwargs)``\n",
            " |  \n",
            " |  Apply `op` to the arguments `*x` elementwise, broadcasting the arguments.\n",
            " |  \n",
            " |  The broadcasting rules are:\n",
            " |  \n",
            " |  * Dimensions of length 1 may be prepended to either array.\n",
            " |  * Arrays may be repeated along dimensions of length 1.\n",
            " |  \n",
            " |  Parameters\n",
            " |  ----------\n",
            " |  *x : array_like\n",
            " |      Input arrays.\n",
            " |  out : ndarray, None, or tuple of ndarray and None, optional\n",
            " |      Alternate array object(s) in which to put the result; if provided, it\n",
            " |      must have a shape that the inputs broadcast to. A tuple of arrays\n",
            " |      (possible only as a keyword argument) must have length equal to the\n",
            " |      number of outputs; use None for uninitialized outputs to be\n",
            " |      allocated by the ufunc.\n",
            " |  where : array_like, optional\n",
            " |      This condition is broadcast over the input. At locations where the\n",
            " |      condition is True, the `out` array will be set to the ufunc result.\n",
            " |      Elsewhere, the `out` array will retain its original value.\n",
            " |      Note that if an uninitialized `out` array is created via the default\n",
            " |      ``out=None``, locations within it where the condition is False will\n",
            " |      remain uninitialized.\n",
            " |  **kwargs\n",
            " |      For other keyword-only arguments, see the :ref:`ufunc docs <ufuncs.kwargs>`.\n",
            " |  \n",
            " |  Returns\n",
            " |  -------\n",
            " |  r : ndarray or tuple of ndarray\n",
            " |      `r` will have the shape that the arrays in `x` broadcast to; if `out` is\n",
            " |      provided, it will be returned. If not, `r` will be allocated and\n",
            " |      may contain uninitialized values. If the function has more than one\n",
            " |      output, then the result will be a tuple of arrays.\n",
            " |  \n",
            " |  Methods defined here:\n",
            " |  \n",
            " |  __call__(self, /, *args, **kwargs)\n",
            " |      Call self as a function.\n",
            " |  \n",
            " |  __repr__(self, /)\n",
            " |      Return repr(self).\n",
            " |  \n",
            " |  __str__(self, /)\n",
            " |      Return str(self).\n",
            " |  \n",
            " |  accumulate(...)\n",
            " |      accumulate(array, axis=0, dtype=None, out=None)\n",
            " |      \n",
            " |      Accumulate the result of applying the operator to all elements.\n",
            " |      \n",
            " |      For a one-dimensional array, accumulate produces results equivalent to::\n",
            " |      \n",
            " |        r = np.empty(len(A))\n",
            " |        t = op.identity        # op = the ufunc being applied to A's  elements\n",
            " |        for i in range(len(A)):\n",
            " |            t = op(t, A[i])\n",
            " |            r[i] = t\n",
            " |        return r\n",
            " |      \n",
            " |      For example, add.accumulate() is equivalent to np.cumsum().\n",
            " |      \n",
            " |      For a multi-dimensional array, accumulate is applied along only one\n",
            " |      axis (axis zero by default; see Examples below) so repeated use is\n",
            " |      necessary if one wants to accumulate over multiple axes.\n",
            " |      \n",
            " |      Parameters\n",
            " |      ----------\n",
            " |      array : array_like\n",
            " |          The array to act on.\n",
            " |      axis : int, optional\n",
            " |          The axis along which to apply the accumulation; default is zero.\n",
            " |      dtype : data-type code, optional\n",
            " |          The data-type used to represent the intermediate results. Defaults\n",
            " |          to the data-type of the output array if such is provided, or the\n",
            " |          the data-type of the input array if no output array is provided.\n",
            " |      out : ndarray, None, or tuple of ndarray and None, optional\n",
            " |          A location into which the result is stored. If not provided or None,\n",
            " |          a freshly-allocated array is returned. For consistency with\n",
            " |          ``ufunc.__call__``, if given as a keyword, this may be wrapped in a\n",
            " |          1-element tuple.\n",
            " |      \n",
            " |          .. versionchanged:: 1.13.0\n",
            " |             Tuples are allowed for keyword argument.\n",
            " |      \n",
            " |      Returns\n",
            " |      -------\n",
            " |      r : ndarray\n",
            " |          The accumulated values. If `out` was supplied, `r` is a reference to\n",
            " |          `out`.\n",
            " |      \n",
            " |      Examples\n",
            " |      --------\n",
            " |      1-D array examples:\n",
            " |      \n",
            " |      >>> np.add.accumulate([2, 3, 5])\n",
            " |      array([ 2,  5, 10])\n",
            " |      >>> np.multiply.accumulate([2, 3, 5])\n",
            " |      array([ 2,  6, 30])\n",
            " |      \n",
            " |      2-D array examples:\n",
            " |      \n",
            " |      >>> I = np.eye(2)\n",
            " |      >>> I\n",
            " |      array([[1.,  0.],\n",
            " |             [0.,  1.]])\n",
            " |      \n",
            " |      Accumulate along axis 0 (rows), down columns:\n",
            " |      \n",
            " |      >>> np.add.accumulate(I, 0)\n",
            " |      array([[1.,  0.],\n",
            " |             [1.,  1.]])\n",
            " |      >>> np.add.accumulate(I) # no axis specified = axis zero\n",
            " |      array([[1.,  0.],\n",
            " |             [1.,  1.]])\n",
            " |      \n",
            " |      Accumulate along axis 1 (columns), through rows:\n",
            " |      \n",
            " |      >>> np.add.accumulate(I, 1)\n",
            " |      array([[1.,  1.],\n",
            " |             [0.,  1.]])\n",
            " |  \n",
            " |  at(...)\n",
            " |      at(a, indices, b=None, /)\n",
            " |      \n",
            " |      Performs unbuffered in place operation on operand 'a' for elements\n",
            " |      specified by 'indices'. For addition ufunc, this method is equivalent to\n",
            " |      ``a[indices] += b``, except that results are accumulated for elements that\n",
            " |      are indexed more than once. For example, ``a[[0,0]] += 1`` will only\n",
            " |      increment the first element once because of buffering, whereas\n",
            " |      ``add.at(a, [0,0], 1)`` will increment the first element twice.\n",
            " |      \n",
            " |      .. versionadded:: 1.8.0\n",
            " |      \n",
            " |      Parameters\n",
            " |      ----------\n",
            " |      a : array_like\n",
            " |          The array to perform in place operation on.\n",
            " |      indices : array_like or tuple\n",
            " |          Array like index object or slice object for indexing into first\n",
            " |          operand. If first operand has multiple dimensions, indices can be a\n",
            " |          tuple of array like index objects or slice objects.\n",
            " |      b : array_like\n",
            " |          Second operand for ufuncs requiring two operands. Operand must be\n",
            " |          broadcastable over first operand after indexing or slicing.\n",
            " |      \n",
            " |      Examples\n",
            " |      --------\n",
            " |      Set items 0 and 1 to their negative values:\n",
            " |      \n",
            " |      >>> a = np.array([1, 2, 3, 4])\n",
            " |      >>> np.negative.at(a, [0, 1])\n",
            " |      >>> a\n",
            " |      array([-1, -2,  3,  4])\n",
            " |      \n",
            " |      Increment items 0 and 1, and increment item 2 twice:\n",
            " |      \n",
            " |      >>> a = np.array([1, 2, 3, 4])\n",
            " |      >>> np.add.at(a, [0, 1, 2, 2], 1)\n",
            " |      >>> a\n",
            " |      array([2, 3, 5, 4])\n",
            " |      \n",
            " |      Add items 0 and 1 in first array to second array,\n",
            " |      and store results in first array:\n",
            " |      \n",
            " |      >>> a = np.array([1, 2, 3, 4])\n",
            " |      >>> b = np.array([1, 2])\n",
            " |      >>> np.add.at(a, [0, 1], b)\n",
            " |      >>> a\n",
            " |      array([2, 4, 3, 4])\n",
            " |  \n",
            " |  outer(...)\n",
            " |      outer(A, B, /, **kwargs)\n",
            " |      \n",
            " |      Apply the ufunc `op` to all pairs (a, b) with a in `A` and b in `B`.\n",
            " |      \n",
            " |      Let ``M = A.ndim``, ``N = B.ndim``. Then the result, `C`, of\n",
            " |      ``op.outer(A, B)`` is an array of dimension M + N such that:\n",
            " |      \n",
            " |      .. math:: C[i_0, ..., i_{M-1}, j_0, ..., j_{N-1}] =\n",
            " |         op(A[i_0, ..., i_{M-1}], B[j_0, ..., j_{N-1}])\n",
            " |      \n",
            " |      For `A` and `B` one-dimensional, this is equivalent to::\n",
            " |      \n",
            " |        r = empty(len(A),len(B))\n",
            " |        for i in range(len(A)):\n",
            " |            for j in range(len(B)):\n",
            " |                r[i,j] = op(A[i], B[j])  # op = ufunc in question\n",
            " |      \n",
            " |      Parameters\n",
            " |      ----------\n",
            " |      A : array_like\n",
            " |          First array\n",
            " |      B : array_like\n",
            " |          Second array\n",
            " |      kwargs : any\n",
            " |          Arguments to pass on to the ufunc. Typically `dtype` or `out`.\n",
            " |          See `ufunc` for a comprehensive overview of all available arguments.\n",
            " |      \n",
            " |      Returns\n",
            " |      -------\n",
            " |      r : ndarray\n",
            " |          Output array\n",
            " |      \n",
            " |      See Also\n",
            " |      --------\n",
            " |      numpy.outer : A less powerful version of ``np.multiply.outer``\n",
            " |                    that `ravel`\\ s all inputs to 1D. This exists\n",
            " |                    primarily for compatibility with old code.\n",
            " |      \n",
            " |      tensordot : ``np.tensordot(a, b, axes=((), ()))`` and\n",
            " |                  ``np.multiply.outer(a, b)`` behave same for all\n",
            " |                  dimensions of a and b.\n",
            " |      \n",
            " |      Examples\n",
            " |      --------\n",
            " |      >>> np.multiply.outer([1, 2, 3], [4, 5, 6])\n",
            " |      array([[ 4,  5,  6],\n",
            " |             [ 8, 10, 12],\n",
            " |             [12, 15, 18]])\n",
            " |      \n",
            " |      A multi-dimensional example:\n",
            " |      \n",
            " |      >>> A = np.array([[1, 2, 3], [4, 5, 6]])\n",
            " |      >>> A.shape\n",
            " |      (2, 3)\n",
            " |      >>> B = np.array([[1, 2, 3, 4]])\n",
            " |      >>> B.shape\n",
            " |      (1, 4)\n",
            " |      >>> C = np.multiply.outer(A, B)\n",
            " |      >>> C.shape; C\n",
            " |      (2, 3, 1, 4)\n",
            " |      array([[[[ 1,  2,  3,  4]],\n",
            " |              [[ 2,  4,  6,  8]],\n",
            " |              [[ 3,  6,  9, 12]]],\n",
            " |             [[[ 4,  8, 12, 16]],\n",
            " |              [[ 5, 10, 15, 20]],\n",
            " |              [[ 6, 12, 18, 24]]]])\n",
            " |  \n",
            " |  reduce(...)\n",
            " |      reduce(array, axis=0, dtype=None, out=None, keepdims=False, initial=<no value>, where=True)\n",
            " |      \n",
            " |      Reduces `array`'s dimension by one, by applying ufunc along one axis.\n",
            " |      \n",
            " |      Let :math:`array.shape = (N_0, ..., N_i, ..., N_{M-1})`.  Then\n",
            " |      :math:`ufunc.reduce(array, axis=i)[k_0, ..,k_{i-1}, k_{i+1}, .., k_{M-1}]` =\n",
            " |      the result of iterating `j` over :math:`range(N_i)`, cumulatively applying\n",
            " |      ufunc to each :math:`array[k_0, ..,k_{i-1}, j, k_{i+1}, .., k_{M-1}]`.\n",
            " |      For a one-dimensional array, reduce produces results equivalent to:\n",
            " |      ::\n",
            " |      \n",
            " |       r = op.identity # op = ufunc\n",
            " |       for i in range(len(A)):\n",
            " |         r = op(r, A[i])\n",
            " |       return r\n",
            " |      \n",
            " |      For example, add.reduce() is equivalent to sum().\n",
            " |      \n",
            " |      Parameters\n",
            " |      ----------\n",
            " |      array : array_like\n",
            " |          The array to act on.\n",
            " |      axis : None or int or tuple of ints, optional\n",
            " |          Axis or axes along which a reduction is performed.\n",
            " |          The default (`axis` = 0) is perform a reduction over the first\n",
            " |          dimension of the input array. `axis` may be negative, in\n",
            " |          which case it counts from the last to the first axis.\n",
            " |      \n",
            " |          .. versionadded:: 1.7.0\n",
            " |      \n",
            " |          If this is None, a reduction is performed over all the axes.\n",
            " |          If this is a tuple of ints, a reduction is performed on multiple\n",
            " |          axes, instead of a single axis or all the axes as before.\n",
            " |      \n",
            " |          For operations which are either not commutative or not associative,\n",
            " |          doing a reduction over multiple axes is not well-defined. The\n",
            " |          ufuncs do not currently raise an exception in this case, but will\n",
            " |          likely do so in the future.\n",
            " |      dtype : data-type code, optional\n",
            " |          The type used to represent the intermediate results. Defaults\n",
            " |          to the data-type of the output array if this is provided, or\n",
            " |          the data-type of the input array if no output array is provided.\n",
            " |      out : ndarray, None, or tuple of ndarray and None, optional\n",
            " |          A location into which the result is stored. If not provided or None,\n",
            " |          a freshly-allocated array is returned. For consistency with\n",
            " |          ``ufunc.__call__``, if given as a keyword, this may be wrapped in a\n",
            " |          1-element tuple.\n",
            " |      \n",
            " |          .. versionchanged:: 1.13.0\n",
            " |             Tuples are allowed for keyword argument.\n",
            " |      keepdims : bool, optional\n",
            " |          If this is set to True, the axes which are reduced are left\n",
            " |          in the result as dimensions with size one. With this option,\n",
            " |          the result will broadcast correctly against the original `array`.\n",
            " |      \n",
            " |          .. versionadded:: 1.7.0\n",
            " |      initial : scalar, optional\n",
            " |          The value with which to start the reduction.\n",
            " |          If the ufunc has no identity or the dtype is object, this defaults\n",
            " |          to None - otherwise it defaults to ufunc.identity.\n",
            " |          If ``None`` is given, the first element of the reduction is used,\n",
            " |          and an error is thrown if the reduction is empty.\n",
            " |      \n",
            " |          .. versionadded:: 1.15.0\n",
            " |      \n",
            " |      where : array_like of bool, optional\n",
            " |          A boolean array which is broadcasted to match the dimensions\n",
            " |          of `array`, and selects elements to include in the reduction. Note\n",
            " |          that for ufuncs like ``minimum`` that do not have an identity\n",
            " |          defined, one has to pass in also ``initial``.\n",
            " |      \n",
            " |          .. versionadded:: 1.17.0\n",
            " |      \n",
            " |      Returns\n",
            " |      -------\n",
            " |      r : ndarray\n",
            " |          The reduced array. If `out` was supplied, `r` is a reference to it.\n",
            " |      \n",
            " |      Examples\n",
            " |      --------\n",
            " |      >>> np.multiply.reduce([2,3,5])\n",
            " |      30\n",
            " |      \n",
            " |      A multi-dimensional array example:\n",
            " |      \n",
            " |      >>> X = np.arange(8).reshape((2,2,2))\n",
            " |      >>> X\n",
            " |      array([[[0, 1],\n",
            " |              [2, 3]],\n",
            " |             [[4, 5],\n",
            " |              [6, 7]]])\n",
            " |      >>> np.add.reduce(X, 0)\n",
            " |      array([[ 4,  6],\n",
            " |             [ 8, 10]])\n",
            " |      >>> np.add.reduce(X) # confirm: default axis value is 0\n",
            " |      array([[ 4,  6],\n",
            " |             [ 8, 10]])\n",
            " |      >>> np.add.reduce(X, 1)\n",
            " |      array([[ 2,  4],\n",
            " |             [10, 12]])\n",
            " |      >>> np.add.reduce(X, 2)\n",
            " |      array([[ 1,  5],\n",
            " |             [ 9, 13]])\n",
            " |      \n",
            " |      You can use the ``initial`` keyword argument to initialize the reduction\n",
            " |      with a different value, and ``where`` to select specific elements to include:\n",
            " |      \n",
            " |      >>> np.add.reduce([10], initial=5)\n",
            " |      15\n",
            " |      >>> np.add.reduce(np.ones((2, 2, 2)), axis=(0, 2), initial=10)\n",
            " |      array([14., 14.])\n",
            " |      >>> a = np.array([10., np.nan, 10])\n",
            " |      >>> np.add.reduce(a, where=~np.isnan(a))\n",
            " |      20.0\n",
            " |      \n",
            " |      Allows reductions of empty arrays where they would normally fail, i.e.\n",
            " |      for ufuncs without an identity.\n",
            " |      \n",
            " |      >>> np.minimum.reduce([], initial=np.inf)\n",
            " |      inf\n",
            " |      >>> np.minimum.reduce([[1., 2.], [3., 4.]], initial=10., where=[True, False])\n",
            " |      array([ 1., 10.])\n",
            " |      >>> np.minimum.reduce([])\n",
            " |      Traceback (most recent call last):\n",
            " |          ...\n",
            " |      ValueError: zero-size array to reduction operation minimum which has no identity\n",
            " |  \n",
            " |  reduceat(...)\n",
            " |      reduceat(array, indices, axis=0, dtype=None, out=None)\n",
            " |      \n",
            " |      Performs a (local) reduce with specified slices over a single axis.\n",
            " |      \n",
            " |      For i in ``range(len(indices))``, `reduceat` computes\n",
            " |      ``ufunc.reduce(array[indices[i]:indices[i+1]])``, which becomes the i-th\n",
            " |      generalized \"row\" parallel to `axis` in the final result (i.e., in a\n",
            " |      2-D array, for example, if `axis = 0`, it becomes the i-th row, but if\n",
            " |      `axis = 1`, it becomes the i-th column).  There are three exceptions to this:\n",
            " |      \n",
            " |      * when ``i = len(indices) - 1`` (so for the last index),\n",
            " |        ``indices[i+1] = array.shape[axis]``.\n",
            " |      * if ``indices[i] >= indices[i + 1]``, the i-th generalized \"row\" is\n",
            " |        simply ``array[indices[i]]``.\n",
            " |      * if ``indices[i] >= len(array)`` or ``indices[i] < 0``, an error is raised.\n",
            " |      \n",
            " |      The shape of the output depends on the size of `indices`, and may be\n",
            " |      larger than `array` (this happens if ``len(indices) > array.shape[axis]``).\n",
            " |      \n",
            " |      Parameters\n",
            " |      ----------\n",
            " |      array : array_like\n",
            " |          The array to act on.\n",
            " |      indices : array_like\n",
            " |          Paired indices, comma separated (not colon), specifying slices to\n",
            " |          reduce.\n",
            " |      axis : int, optional\n",
            " |          The axis along which to apply the reduceat.\n",
            " |      dtype : data-type code, optional\n",
            " |          The type used to represent the intermediate results. Defaults\n",
            " |          to the data type of the output array if this is provided, or\n",
            " |          the data type of the input array if no output array is provided.\n",
            " |      out : ndarray, None, or tuple of ndarray and None, optional\n",
            " |          A location into which the result is stored. If not provided or None,\n",
            " |          a freshly-allocated array is returned. For consistency with\n",
            " |          ``ufunc.__call__``, if given as a keyword, this may be wrapped in a\n",
            " |          1-element tuple.\n",
            " |      \n",
            " |          .. versionchanged:: 1.13.0\n",
            " |             Tuples are allowed for keyword argument.\n",
            " |      \n",
            " |      Returns\n",
            " |      -------\n",
            " |      r : ndarray\n",
            " |          The reduced values. If `out` was supplied, `r` is a reference to\n",
            " |          `out`.\n",
            " |      \n",
            " |      Notes\n",
            " |      -----\n",
            " |      A descriptive example:\n",
            " |      \n",
            " |      If `array` is 1-D, the function `ufunc.accumulate(array)` is the same as\n",
            " |      ``ufunc.reduceat(array, indices)[::2]`` where `indices` is\n",
            " |      ``range(len(array) - 1)`` with a zero placed\n",
            " |      in every other element:\n",
            " |      ``indices = zeros(2 * len(array) - 1)``,\n",
            " |      ``indices[1::2] = range(1, len(array))``.\n",
            " |      \n",
            " |      Don't be fooled by this attribute's name: `reduceat(array)` is not\n",
            " |      necessarily smaller than `array`.\n",
            " |      \n",
            " |      Examples\n",
            " |      --------\n",
            " |      To take the running sum of four successive values:\n",
            " |      \n",
            " |      >>> np.add.reduceat(np.arange(8),[0,4, 1,5, 2,6, 3,7])[::2]\n",
            " |      array([ 6, 10, 14, 18])\n",
            " |      \n",
            " |      A 2-D example:\n",
            " |      \n",
            " |      >>> x = np.linspace(0, 15, 16).reshape(4,4)\n",
            " |      >>> x\n",
            " |      array([[ 0.,   1.,   2.,   3.],\n",
            " |             [ 4.,   5.,   6.,   7.],\n",
            " |             [ 8.,   9.,  10.,  11.],\n",
            " |             [12.,  13.,  14.,  15.]])\n",
            " |      \n",
            " |      ::\n",
            " |      \n",
            " |       # reduce such that the result has the following five rows:\n",
            " |       # [row1 + row2 + row3]\n",
            " |       # [row4]\n",
            " |       # [row2]\n",
            " |       # [row3]\n",
            " |       # [row1 + row2 + row3 + row4]\n",
            " |      \n",
            " |      >>> np.add.reduceat(x, [0, 3, 1, 2, 0])\n",
            " |      array([[12.,  15.,  18.,  21.],\n",
            " |             [12.,  13.,  14.,  15.],\n",
            " |             [ 4.,   5.,   6.,   7.],\n",
            " |             [ 8.,   9.,  10.,  11.],\n",
            " |             [24.,  28.,  32.,  36.]])\n",
            " |      \n",
            " |      ::\n",
            " |      \n",
            " |       # reduce such that result has the following two columns:\n",
            " |       # [col1 * col2 * col3, col4]\n",
            " |      \n",
            " |      >>> np.multiply.reduceat(x, [0, 3], 1)\n",
            " |      array([[   0.,     3.],\n",
            " |             [ 120.,     7.],\n",
            " |             [ 720.,    11.],\n",
            " |             [2184.,    15.]])\n",
            " |  \n",
            " |  ----------------------------------------------------------------------\n",
            " |  Data descriptors defined here:\n",
            " |  \n",
            " |  identity\n",
            " |      The identity value.\n",
            " |      \n",
            " |      Data attribute containing the identity element for the ufunc, if it has one.\n",
            " |      If it does not, the attribute value is None.\n",
            " |      \n",
            " |      Examples\n",
            " |      --------\n",
            " |      >>> np.add.identity\n",
            " |      0\n",
            " |      >>> np.multiply.identity\n",
            " |      1\n",
            " |      >>> np.power.identity\n",
            " |      1\n",
            " |      >>> print(np.exp.identity)\n",
            " |      None\n",
            " |  \n",
            " |  nargs\n",
            " |      The number of arguments.\n",
            " |      \n",
            " |      Data attribute containing the number of arguments the ufunc takes, including\n",
            " |      optional ones.\n",
            " |      \n",
            " |      Notes\n",
            " |      -----\n",
            " |      Typically this value will be one more than what you might expect because all\n",
            " |      ufuncs take  the optional \"out\" argument.\n",
            " |      \n",
            " |      Examples\n",
            " |      --------\n",
            " |      >>> np.add.nargs\n",
            " |      3\n",
            " |      >>> np.multiply.nargs\n",
            " |      3\n",
            " |      >>> np.power.nargs\n",
            " |      3\n",
            " |      >>> np.exp.nargs\n",
            " |      2\n",
            " |  \n",
            " |  nin\n",
            " |      The number of inputs.\n",
            " |      \n",
            " |      Data attribute containing the number of arguments the ufunc treats as input.\n",
            " |      \n",
            " |      Examples\n",
            " |      --------\n",
            " |      >>> np.add.nin\n",
            " |      2\n",
            " |      >>> np.multiply.nin\n",
            " |      2\n",
            " |      >>> np.power.nin\n",
            " |      2\n",
            " |      >>> np.exp.nin\n",
            " |      1\n",
            " |  \n",
            " |  nout\n",
            " |      The number of outputs.\n",
            " |      \n",
            " |      Data attribute containing the number of arguments the ufunc treats as output.\n",
            " |      \n",
            " |      Notes\n",
            " |      -----\n",
            " |      Since all ufuncs can take output arguments, this will always be (at least) 1.\n",
            " |      \n",
            " |      Examples\n",
            " |      --------\n",
            " |      >>> np.add.nout\n",
            " |      1\n",
            " |      >>> np.multiply.nout\n",
            " |      1\n",
            " |      >>> np.power.nout\n",
            " |      1\n",
            " |      >>> np.exp.nout\n",
            " |      1\n",
            " |  \n",
            " |  ntypes\n",
            " |      The number of types.\n",
            " |      \n",
            " |      The number of numerical NumPy types - of which there are 18 total - on which\n",
            " |      the ufunc can operate.\n",
            " |      \n",
            " |      See Also\n",
            " |      --------\n",
            " |      numpy.ufunc.types\n",
            " |      \n",
            " |      Examples\n",
            " |      --------\n",
            " |      >>> np.add.ntypes\n",
            " |      18\n",
            " |      >>> np.multiply.ntypes\n",
            " |      18\n",
            " |      >>> np.power.ntypes\n",
            " |      17\n",
            " |      >>> np.exp.ntypes\n",
            " |      7\n",
            " |      >>> np.remainder.ntypes\n",
            " |      14\n",
            " |  \n",
            " |  signature\n",
            " |      Definition of the core elements a generalized ufunc operates on.\n",
            " |      \n",
            " |      The signature determines how the dimensions of each input/output array\n",
            " |      are split into core and loop dimensions:\n",
            " |      \n",
            " |      1. Each dimension in the signature is matched to a dimension of the\n",
            " |         corresponding passed-in array, starting from the end of the shape tuple.\n",
            " |      2. Core dimensions assigned to the same label in the signature must have\n",
            " |         exactly matching sizes, no broadcasting is performed.\n",
            " |      3. The core dimensions are removed from all inputs and the remaining\n",
            " |         dimensions are broadcast together, defining the loop dimensions.\n",
            " |      \n",
            " |      Notes\n",
            " |      -----\n",
            " |      Generalized ufuncs are used internally in many linalg functions, and in\n",
            " |      the testing suite; the examples below are taken from these.\n",
            " |      For ufuncs that operate on scalars, the signature is None, which is\n",
            " |      equivalent to '()' for every argument.\n",
            " |      \n",
            " |      Examples\n",
            " |      --------\n",
            " |      >>> np.core.umath_tests.matrix_multiply.signature\n",
            " |      '(m,n),(n,p)->(m,p)'\n",
            " |      >>> np.linalg._umath_linalg.det.signature\n",
            " |      '(m,m)->()'\n",
            " |      >>> np.add.signature is None\n",
            " |      True  # equivalent to '(),()->()'\n",
            " |  \n",
            " |  types\n",
            " |      Returns a list with types grouped input->output.\n",
            " |      \n",
            " |      Data attribute listing the data-type \"Domain-Range\" groupings the ufunc can\n",
            " |      deliver. The data-types are given using the character codes.\n",
            " |      \n",
            " |      See Also\n",
            " |      --------\n",
            " |      numpy.ufunc.ntypes\n",
            " |      \n",
            " |      Examples\n",
            " |      --------\n",
            " |      >>> np.add.types\n",
            " |      ['??->?', 'bb->b', 'BB->B', 'hh->h', 'HH->H', 'ii->i', 'II->I', 'll->l',\n",
            " |      'LL->L', 'qq->q', 'QQ->Q', 'ff->f', 'dd->d', 'gg->g', 'FF->F', 'DD->D',\n",
            " |      'GG->G', 'OO->O']\n",
            " |      \n",
            " |      >>> np.multiply.types\n",
            " |      ['??->?', 'bb->b', 'BB->B', 'hh->h', 'HH->H', 'ii->i', 'II->I', 'll->l',\n",
            " |      'LL->L', 'qq->q', 'QQ->Q', 'ff->f', 'dd->d', 'gg->g', 'FF->F', 'DD->D',\n",
            " |      'GG->G', 'OO->O']\n",
            " |      \n",
            " |      >>> np.power.types\n",
            " |      ['bb->b', 'BB->B', 'hh->h', 'HH->H', 'ii->i', 'II->I', 'll->l', 'LL->L',\n",
            " |      'qq->q', 'QQ->Q', 'ff->f', 'dd->d', 'gg->g', 'FF->F', 'DD->D', 'GG->G',\n",
            " |      'OO->O']\n",
            " |      \n",
            " |      >>> np.exp.types\n",
            " |      ['f->f', 'd->d', 'g->g', 'F->F', 'D->D', 'G->G', 'O->O']\n",
            " |      \n",
            " |      >>> np.remainder.types\n",
            " |      ['bb->b', 'BB->B', 'hh->h', 'HH->H', 'ii->i', 'II->I', 'll->l', 'LL->L',\n",
            " |      'qq->q', 'QQ->Q', 'ff->f', 'dd->d', 'gg->g', 'OO->O']\n",
            "\n"
          ]
        }
      ],
      "source": [
        "# np.info\n",
        "help(np.add)"
      ]
    },
    {
      "cell_type": "markdown",
      "metadata": {
        "id": "R5NPnbi42xNQ"
      },
      "source": [
        "#### 6.  Create a null vector of size 10 but the fifth value which is 1 (★☆☆) \n",
        "(**hint**: array\\[4\\])"
      ]
    },
    {
      "cell_type": "code",
      "execution_count": 10,
      "metadata": {
        "id": "G_cWeL-92xNQ",
        "colab": {
          "base_uri": "https://localhost:8080/"
        },
        "outputId": "024bf207-9ad0-4326-b258-f5621c387f40"
      },
      "outputs": [
        {
          "output_type": "execute_result",
          "data": {
            "text/plain": [
              "array([0., 0., 0., 0., 1., 0., 0., 0., 0., 0.])"
            ]
          },
          "metadata": {},
          "execution_count": 10
        }
      ],
      "source": [
        "arr=np.zeros(10)\n",
        "arr[4]=1\n",
        "arr"
      ]
    },
    {
      "cell_type": "markdown",
      "metadata": {
        "id": "cjpqZzg82xNQ"
      },
      "source": [
        "#### 7.  Create a vector with values ranging from 10 to 49 (★☆☆) \n",
        "(**hint**: np.arange)"
      ]
    },
    {
      "cell_type": "code",
      "execution_count": 12,
      "metadata": {
        "id": "mkDxMirh2xNQ",
        "colab": {
          "base_uri": "https://localhost:8080/"
        },
        "outputId": "0a692885-66de-4f54-9d8a-1bad05b2855a"
      },
      "outputs": [
        {
          "output_type": "execute_result",
          "data": {
            "text/plain": [
              "array([10, 11, 12, 13, 14, 15, 16, 17, 18, 19, 20, 21, 22, 23, 24, 25, 26,\n",
              "       27, 28, 29, 30, 31, 32, 33, 34, 35, 36, 37, 38, 39, 40, 41, 42, 43,\n",
              "       44, 45, 46, 47, 48])"
            ]
          },
          "metadata": {},
          "execution_count": 12
        }
      ],
      "source": [
        "arr=np.arange(10,49)\n",
        "arr"
      ]
    },
    {
      "cell_type": "markdown",
      "metadata": {
        "id": "W32Qtjuz2xNQ"
      },
      "source": [
        "#### 8.  Reverse a vector (first element becomes last) (★☆☆) \n",
        "(**hint**: array\\[::-1\\])"
      ]
    },
    {
      "cell_type": "code",
      "execution_count": 13,
      "metadata": {
        "id": "cPNnrCN12xNR",
        "colab": {
          "base_uri": "https://localhost:8080/"
        },
        "outputId": "9b7d4d62-4c35-42dc-eaa3-ef0e03c76af5"
      },
      "outputs": [
        {
          "output_type": "execute_result",
          "data": {
            "text/plain": [
              "array([48, 47, 46, 45, 44, 43, 42, 41, 40, 39, 38, 37, 36, 35, 34, 33, 32,\n",
              "       31, 30, 29, 28, 27, 26, 25, 24, 23, 22, 21, 20, 19, 18, 17, 16, 15,\n",
              "       14, 13, 12, 11, 10])"
            ]
          },
          "metadata": {},
          "execution_count": 13
        }
      ],
      "source": [
        "arr=arr[::-1]\n",
        "arr"
      ]
    },
    {
      "cell_type": "markdown",
      "metadata": {
        "id": "acnkberX2xNR"
      },
      "source": [
        "#### 9.  Create a 3x3 matrix with values ranging from 0 to 8 (★☆☆) \n",
        "(**hint**: reshape)"
      ]
    },
    {
      "cell_type": "code",
      "execution_count": 14,
      "metadata": {
        "id": "hC7U2w1e2xNR",
        "colab": {
          "base_uri": "https://localhost:8080/"
        },
        "outputId": "1b4dba03-7e52-41c4-ddcf-13a662499eea"
      },
      "outputs": [
        {
          "output_type": "execute_result",
          "data": {
            "text/plain": [
              "array([[0, 1, 2],\n",
              "       [3, 4, 5],\n",
              "       [6, 7, 8]])"
            ]
          },
          "metadata": {},
          "execution_count": 14
        }
      ],
      "source": [
        "arr=np.arange(9).reshape(3,3)\n",
        "arr"
      ]
    },
    {
      "cell_type": "markdown",
      "metadata": {
        "id": "V3LIht0J2xNR"
      },
      "source": [
        "#### 10. Find indices of non-zero elements from \\[1,2,0,0,4,0\\] (★☆☆) \n",
        "(**hint**: np.nonzero)"
      ]
    },
    {
      "cell_type": "code",
      "execution_count": 17,
      "metadata": {
        "id": "O_BxpDu-2xNS",
        "colab": {
          "base_uri": "https://localhost:8080/"
        },
        "outputId": "6a477c9d-8855-431f-e7ad-2dc2b2da43de"
      },
      "outputs": [
        {
          "output_type": "execute_result",
          "data": {
            "text/plain": [
              "[0, 1, 4]"
            ]
          },
          "metadata": {},
          "execution_count": 17
        }
      ],
      "source": [
        "NonZero=[i for i,x in enumerate ([1,2,0,0,4,0] ) if x != 0]\n",
        "NonZero\n"
      ]
    },
    {
      "cell_type": "markdown",
      "metadata": {
        "id": "xywsnPUs2xNS"
      },
      "source": [
        "#### 11. Create a 3x3 identity matrix (★☆☆) \n",
        "(**hint**: np.eye)"
      ]
    },
    {
      "cell_type": "code",
      "execution_count": 20,
      "metadata": {
        "id": "yr18YlCD2xNS",
        "colab": {
          "base_uri": "https://localhost:8080/"
        },
        "outputId": "f51d6580-a6fc-4d01-f7bb-855322f6a7d1"
      },
      "outputs": [
        {
          "output_type": "execute_result",
          "data": {
            "text/plain": [
              "array([[1, 0, 0],\n",
              "       [0, 1, 0],\n",
              "       [0, 0, 1]])"
            ]
          },
          "metadata": {},
          "execution_count": 20
        }
      ],
      "source": [
        "ar=np.identity(3,dtype= 'int')\n",
        "ar"
      ]
    },
    {
      "cell_type": "markdown",
      "metadata": {
        "id": "YEzJNrzX2xNS"
      },
      "source": [
        "#### 12. Create a 3x3x3 array with random values (★☆☆) \n",
        "(**hint**: np.random.random)"
      ]
    },
    {
      "cell_type": "code",
      "execution_count": 21,
      "metadata": {
        "collapsed": true,
        "id": "E6_81KQX2xNS",
        "colab": {
          "base_uri": "https://localhost:8080/"
        },
        "outputId": "9894b836-a30e-4f3f-a03a-51a0c5f6c691"
      },
      "outputs": [
        {
          "output_type": "execute_result",
          "data": {
            "text/plain": [
              "array([[[0.18464007, 0.53290535, 0.77655231],\n",
              "        [0.50202854, 0.43645799, 0.58789211],\n",
              "        [0.18782398, 0.61255683, 0.61147689]],\n",
              "\n",
              "       [[0.46847316, 0.16129622, 0.33647956],\n",
              "        [0.24629119, 0.2645779 , 0.17399342],\n",
              "        [0.07769808, 0.29221942, 0.98159355]],\n",
              "\n",
              "       [[0.85191102, 0.75654718, 0.16105642],\n",
              "        [0.61118656, 0.53641124, 0.76867375],\n",
              "        [0.10743628, 0.90660568, 0.58202754]]])"
            ]
          },
          "metadata": {},
          "execution_count": 21
        }
      ],
      "source": [
        "arr=np.random.rand(3,3,3)\n",
        "arr"
      ]
    },
    {
      "cell_type": "markdown",
      "metadata": {
        "id": "Z8MwVZK02xNS"
      },
      "source": [
        "#### 13. Create a 10x10 array with random values and find the minimum and maximum values (★☆☆) \n",
        "(**hint**: min, max)"
      ]
    },
    {
      "cell_type": "code",
      "execution_count": 24,
      "metadata": {
        "id": "ZScQHb922xNT",
        "colab": {
          "base_uri": "https://localhost:8080/"
        },
        "outputId": "4fc53482-6951-4e41-ba4b-1877590363ac"
      },
      "outputs": [
        {
          "output_type": "stream",
          "name": "stdout",
          "text": [
            "0.003584500357991627\n"
          ]
        },
        {
          "output_type": "execute_result",
          "data": {
            "text/plain": [
              "0.9854623377670247"
            ]
          },
          "metadata": {},
          "execution_count": 24
        }
      ],
      "source": [
        "ar=np.random.rand(10,10)\n",
        "ar\n",
        "print(ar.min())\n",
        "ar.max()"
      ]
    },
    {
      "cell_type": "markdown",
      "metadata": {
        "id": "l1C0EFD62xNT"
      },
      "source": [
        "#### 14. Create a random vector of size 30 and find the mean value (★☆☆) \n",
        "(**hint**: mean)"
      ]
    },
    {
      "cell_type": "code",
      "execution_count": 26,
      "metadata": {
        "id": "lYsdah8j2xNT",
        "colab": {
          "base_uri": "https://localhost:8080/"
        },
        "outputId": "cdf8c2d6-c45a-404a-f5c6-233fa2dc439c"
      },
      "outputs": [
        {
          "output_type": "execute_result",
          "data": {
            "text/plain": [
              "0.37225415466728545"
            ]
          },
          "metadata": {},
          "execution_count": 26
        }
      ],
      "source": [
        "arr=np.random.rand(30)\n",
        "arr.mean()\n"
      ]
    },
    {
      "cell_type": "markdown",
      "metadata": {
        "id": "aTkBMA8K2xNT"
      },
      "source": [
        "#### 15. Create a 2d array with 1 on the border and 0 inside (★☆☆) \n",
        "(**hint**: array\\[1:-1, 1:-1\\])"
      ]
    },
    {
      "cell_type": "code",
      "execution_count": 27,
      "metadata": {
        "id": "FUCBwBpd2xNT",
        "colab": {
          "base_uri": "https://localhost:8080/"
        },
        "outputId": "034ff9fb-c321-4abc-d62c-99a9a1feaebd"
      },
      "outputs": [
        {
          "output_type": "execute_result",
          "data": {
            "text/plain": [
              "array([[1, 1, 1, 1, 1],\n",
              "       [1, 0, 0, 0, 1],\n",
              "       [1, 0, 0, 0, 1],\n",
              "       [1, 0, 0, 0, 1],\n",
              "       [1, 1, 1, 1, 1]])"
            ]
          },
          "metadata": {},
          "execution_count": 27
        }
      ],
      "source": [
        "arr = np.ones((5,5),dtype = 'int')\n",
        "arr[1:-1,1:-1] = np.zeros((3,3),dtype = 'int')\n",
        "arr"
      ]
    },
    {
      "cell_type": "markdown",
      "metadata": {
        "id": "Jczpi36J2xNT"
      },
      "source": [
        "#### 16. How to add a border (filled with 0's) around an existing array? (★☆☆) \n",
        "(**hint**: np.pad)"
      ]
    },
    {
      "cell_type": "code",
      "execution_count": 35,
      "metadata": {
        "id": "jaxk2j0H2xNT",
        "colab": {
          "base_uri": "https://localhost:8080/",
          "height": 130
        },
        "outputId": "754a2591-5f50-4f01-8b14-8167d2d03ece"
      },
      "outputs": [
        {
          "output_type": "error",
          "ename": "SyntaxError",
          "evalue": "ignored",
          "traceback": [
            "\u001b[0;36m  File \u001b[0;32m\"<ipython-input-35-457744c87300>\"\u001b[0;36m, line \u001b[0;32m6\u001b[0m\n\u001b[0;31m    arr = np.pad(arr,pad_width=((​1,1)​),mode = 'constant'​,constant_values = 0)\u001b[0m\n\u001b[0m                                  ^\u001b[0m\n\u001b[0;31mSyntaxError\u001b[0m\u001b[0;31m:\u001b[0m invalid character in identifier\n"
          ]
        }
      ],
      "source": [
        "arr = np.random.rand(5,5)\n",
        "arr_size = np.array(arr.shape)+2\n",
        "arr_1 = np.zeros(arr_size,dtype = 'float')\n",
        "arr_1[1:-1,1:-1] = arr[:,:]\n",
        "arr_1arr = np.random.random((5,5))\n",
        "arr = np.pad(arr,pad_width=((​1,1)​),mode = 'constant'​,constant_values = 0)\n",
        "arr"
      ]
    },
    {
      "cell_type": "markdown",
      "metadata": {
        "id": "OXG-FWdQ2xNT"
      },
      "source": [
        "#### 17. What is the result of the following expression? (★☆☆) \n",
        "(**hint**: NaN = not a number, inf = infinity)"
      ]
    },
    {
      "cell_type": "markdown",
      "metadata": {
        "id": "8mAUVfUN2xNT"
      },
      "source": [
        "```python\n",
        "0 * np.nan\n",
        "np.nan == np.nan\n",
        "np.inf > np.nan\n",
        "np.nan - np.nan\n",
        "0.3 == 3 * 0.1\n",
        "```"
      ]
    },
    {
      "cell_type": "code",
      "execution_count": 37,
      "metadata": {
        "id": "KkO_54gc2xNU",
        "colab": {
          "base_uri": "https://localhost:8080/"
        },
        "outputId": "694128f4-bd3f-4bba-9398-3d454562c1a3"
      },
      "outputs": [
        {
          "output_type": "execute_result",
          "data": {
            "text/plain": [
              "False"
            ]
          },
          "metadata": {},
          "execution_count": 37
        }
      ],
      "source": [
        "False"
      ]
    },
    {
      "cell_type": "markdown",
      "metadata": {
        "id": "_HnVditN2xNU"
      },
      "source": [
        "#### 18. Create a 5x5 matrix with values 1,2,3,4 just below the diagonal (★☆☆) \n",
        "(**hint**: np.diag)"
      ]
    },
    {
      "cell_type": "code",
      "execution_count": 38,
      "metadata": {
        "id": "GmUGUfyl2xNU",
        "colab": {
          "base_uri": "https://localhost:8080/"
        },
        "outputId": "33195e0e-f307-4db7-c459-6a5da7d93641"
      },
      "outputs": [
        {
          "output_type": "execute_result",
          "data": {
            "text/plain": [
              "array([[0, 0, 0, 0, 0],\n",
              "       [1, 0, 0, 0, 0],\n",
              "       [0, 2, 0, 0, 0],\n",
              "       [0, 0, 3, 0, 0],\n",
              "       [0, 0, 0, 4, 0]])"
            ]
          },
          "metadata": {},
          "execution_count": 38
        }
      ],
      "source": [
        "arr = np.diag((1,2,3,4))\n",
        "arr = np.pad(arr,pad_width = ((1,0),(0,1)),mode = 'constant')\n",
        "arr"
      ]
    },
    {
      "cell_type": "markdown",
      "metadata": {
        "id": "QP6OLE342xNU"
      },
      "source": [
        "#### 19. Create a 8x8 matrix and fill it with a checkerboard pattern (★☆☆) \n",
        "(**hint**: array\\[::2\\])"
      ]
    },
    {
      "cell_type": "code",
      "execution_count": 41,
      "metadata": {
        "id": "M2maIBb62xNU",
        "colab": {
          "base_uri": "https://localhost:8080/"
        },
        "outputId": "e78844c4-a9bb-4ddd-a24b-651a52266c57"
      },
      "outputs": [
        {
          "output_type": "execute_result",
          "data": {
            "text/plain": [
              "array([[0, 0, 0, 0, 0, 0, 0, 0],\n",
              "       [0, 0, 0, 0, 0, 0, 0, 0],\n",
              "       [0, 0, 0, 0, 0, 0, 0, 0],\n",
              "       [0, 0, 0, 0, 0, 0, 0, 0],\n",
              "       [0, 0, 0, 0, 0, 0, 0, 0],\n",
              "       [0, 0, 0, 0, 0, 0, 0, 0],\n",
              "       [0, 0, 0, 0, 0, 0, 0, 0],\n",
              "       [0, 0, 0, 0, 0, 0, 0, 0]])"
            ]
          },
          "metadata": {},
          "execution_count": 41
        }
      ],
      "source": [
        "arr = np.zeros((8,8),dtype = 'int')\n",
        "# arr[::2,1::2] = arr[1::2,::2] = arr\n",
        "arr"
      ]
    },
    {
      "cell_type": "markdown",
      "metadata": {
        "id": "-vkXStBQ2xNU"
      },
      "source": [
        "#### 20. Consider a (6,7,8) shape array, what is the index (x,y,z) of the 100th element? \n",
        "(**hint**: np.unravel_index)"
      ]
    },
    {
      "cell_type": "code",
      "execution_count": 47,
      "metadata": {
        "id": "tQX7fG_t2xNU",
        "colab": {
          "base_uri": "https://localhost:8080/",
          "height": 130
        },
        "outputId": "42c8db8e-f658-4e7a-dc99-721af3ba151e"
      },
      "outputs": [
        {
          "output_type": "error",
          "ename": "SyntaxError",
          "evalue": "ignored",
          "traceback": [
            "\u001b[0;36m  File \u001b[0;32m\"<ipython-input-47-f76012b49fcd>\"\u001b[0;36m, line \u001b[0;32m1\u001b[0m\n\u001b[0;31m    arr = np.arange(​6​,7​8)\u001b[0m\n\u001b[0m                      ^\u001b[0m\n\u001b[0;31mSyntaxError\u001b[0m\u001b[0;31m:\u001b[0m invalid character in identifier\n"
          ]
        }
      ],
      "source": [
        "arr = np.arange(​6​,7​​).reshape(​6​,​7​,​8​)\n",
        "arr[1,5,3]"
      ]
    },
    {
      "cell_type": "markdown",
      "metadata": {
        "id": "2hKJZSgs2xNU"
      },
      "source": [
        "#### 21. Create a checkerboard 8x8 matrix using the tile function (★☆☆) \n",
        "(**hint**: np.tile)"
      ]
    },
    {
      "cell_type": "code",
      "execution_count": null,
      "metadata": {
        "id": "drHwhB0J2xNV"
      },
      "outputs": [],
      "source": [
        "arr = np.array([[0,1],\n",
        "               [1,0]])\n",
        "arr = np.tile(arr,(4,4))\n",
        "arr"
      ]
    },
    {
      "cell_type": "markdown",
      "metadata": {
        "id": "OadMB8OB2xNV"
      },
      "source": [
        "#### 22. Normalize a 5x5 random matrix (★☆☆) \n",
        "(**hint**: (x - min) / (max - min))"
      ]
    },
    {
      "cell_type": "code",
      "execution_count": 49,
      "metadata": {
        "id": "Hn0x_S-S2xNV",
        "colab": {
          "base_uri": "https://localhost:8080/",
          "height": 130
        },
        "outputId": "57d6bd44-217f-4605-f6d7-ed00b6fe1148"
      },
      "outputs": [
        {
          "output_type": "error",
          "ename": "SyntaxError",
          "evalue": "ignored",
          "traceback": [
            "\u001b[0;36m  File \u001b[0;32m\"<ipython-input-49-039a93bee114>\"\u001b[0;36m, line \u001b[0;32m1\u001b[0m\n\u001b[0;31m    arr = np.random.rand(​5​,​5).astype(​'d'​)\u001b[0m\n\u001b[0m                           ^\u001b[0m\n\u001b[0;31mSyntaxError\u001b[0m\u001b[0;31m:\u001b[0m invalid character in identifier\n"
          ]
        }
      ],
      "source": [
        "arr = np.random.random((​5​,​5​)).astype(​'d'​)\n",
        "arr_max,arr_min = arr.max(),arr.min()\n",
        "arr = (arr-arr_min)/(arr_max - arr_min)\n",
        "print(arr)\n",
        "print(arr.dtype)"
      ]
    },
    {
      "cell_type": "markdown",
      "metadata": {
        "id": "cAXeqqWc2xNV"
      },
      "source": [
        "#### 23. Create a custom dtype that describes a color as four unsigned bytes (RGBA) (★☆☆) \n",
        "(**hint**: np.dtype)"
      ]
    },
    {
      "cell_type": "code",
      "execution_count": 50,
      "metadata": {
        "collapsed": true,
        "id": "Op-VJaMe2xNV",
        "colab": {
          "base_uri": "https://localhost:8080/",
          "height": 130
        },
        "outputId": "e7e05d03-0b9f-42b5-d379-bdc7f3d2c4bb"
      },
      "outputs": [
        {
          "output_type": "error",
          "ename": "SyntaxError",
          "evalue": "ignored",
          "traceback": [
            "\u001b[0;36m  File \u001b[0;32m\"<ipython-input-50-eb6823748947>\"\u001b[0;36m, line \u001b[0;32m1\u001b[0m\n\u001b[0;31m    RGBA = np.dtype([(​'red'​,np.uint8),(​'green'​,np.uint8),(​'blue'​,np.uint8),(​'alpha'​,np.uint8)])\u001b[0m\n\u001b[0m                      ^\u001b[0m\n\u001b[0;31mSyntaxError\u001b[0m\u001b[0;31m:\u001b[0m invalid character in identifier\n"
          ]
        }
      ],
      "source": [
        "RGBA = np.dtype([(​'red'​,np.uint8),(​'green'​,np.uint8),(​'blue'​,np.uint8),(​'alpha'​,np.uint8)])\n",
        "color = np.array((1,2,4,3),dtype = RGBA)\n",
        "print(color['red'])\n",
        "type(color)"
      ]
    },
    {
      "cell_type": "markdown",
      "metadata": {
        "id": "XbnR4vr92xNV"
      },
      "source": [
        "#### 24. Multiply a 5x3 matrix by a 3x2 matrix (real matrix product) (★☆☆) \n",
        "(**hint**: np.dot | @)"
      ]
    },
    {
      "cell_type": "code",
      "execution_count": 51,
      "metadata": {
        "id": "EBkKPAZ-2xNV",
        "colab": {
          "base_uri": "https://localhost:8080/"
        },
        "outputId": "c24b33b5-b1f2-4ae9-a0d6-2c06f3ce59da"
      },
      "outputs": [
        {
          "output_type": "stream",
          "name": "stdout",
          "text": [
            "[[1.2217952  0.25751231]\n",
            " [1.85146648 0.44680444]\n",
            " [1.44482037 0.31217067]\n",
            " [0.80532101 0.20816722]\n",
            " [1.06524397 0.251702  ]]\n"
          ]
        },
        {
          "output_type": "execute_result",
          "data": {
            "text/plain": [
              "array([[1.2217952 , 0.25751231],\n",
              "       [1.85146648, 0.44680444],\n",
              "       [1.44482037, 0.31217067],\n",
              "       [0.80532101, 0.20816722],\n",
              "       [1.06524397, 0.251702  ]])"
            ]
          },
          "metadata": {},
          "execution_count": 51
        }
      ],
      "source": [
        "arr_1 = np.random.random((5,3))\n",
        "arr_2 = np.random.random((3,2))\n",
        "print(arr_1 @ arr_2)\n",
        "np.dot(arr_1,arr_2)"
      ]
    },
    {
      "cell_type": "markdown",
      "metadata": {
        "id": "L81uAPxA2xNV"
      },
      "source": [
        "#### 25. Given a 1D array, negate all elements which are between 3 and 8, in place. (★☆☆) \n",
        "(**hint**: >, <=)"
      ]
    },
    {
      "cell_type": "code",
      "execution_count": 53,
      "metadata": {
        "id": "zBQv4Rpt2xNV",
        "colab": {
          "base_uri": "https://localhost:8080/"
        },
        "outputId": "0d1e753e-5972-47d4-c769-d80ae72067df"
      },
      "outputs": [
        {
          "output_type": "execute_result",
          "data": {
            "text/plain": [
              "array([ 0,  1,  2,  3,  4,  5,  6,  7,  8,  9, 10, 11, 12, 13, 14, 15])"
            ]
          },
          "metadata": {},
          "execution_count": 53
        }
      ],
      "source": [
        "arr = np.arange(16)\n",
        "arr"
      ]
    },
    {
      "cell_type": "markdown",
      "metadata": {
        "id": "jEUvPHS72xNV"
      },
      "source": [
        "#### 26. What is the output of the following script? (★☆☆) \n",
        "(**hint**: np.sum)"
      ]
    },
    {
      "cell_type": "markdown",
      "metadata": {
        "id": "1PRGIiUq2xNW"
      },
      "source": [
        "```python\n",
        "# Author: Jake VanderPlas\n",
        "\n",
        "print(sum(range(5),-1))\n",
        "from numpy import *\n",
        "print(sum(range(5),-1))\n",
        "```"
      ]
    },
    {
      "cell_type": "code",
      "execution_count": 54,
      "metadata": {
        "id": "L6Fx47E72xNW",
        "colab": {
          "base_uri": "https://localhost:8080/"
        },
        "outputId": "b0a20f48-da41-4fe6-e04c-f24c1b7d0472"
      },
      "outputs": [
        {
          "output_type": "stream",
          "name": "stdout",
          "text": [
            "9\n",
            "10\n"
          ]
        }
      ],
      "source": [
        "9\n",
        "10"
      ]
    },
    {
      "cell_type": "markdown",
      "metadata": {
        "id": "_-8_1ZgM2xNW"
      },
      "source": [
        "#### 27. Consider an integer vector Z, which of these expressions are legal? (★☆☆)"
      ]
    },
    {
      "cell_type": "markdown",
      "metadata": {
        "id": "5Uyk0Qft2xNW"
      },
      "source": [
        "```python\n",
        "Z**Z\n",
        "2 << Z >> 2\n",
        "Z <- Z\n",
        "1j*Z\n",
        "Z/1/1\n",
        "Z<Z>Z\n",
        "```"
      ]
    },
    {
      "cell_type": "code",
      "execution_count": 58,
      "metadata": {
        "id": "2HTpe7hA2xNW"
      },
      "outputs": [],
      "source": [
        "\n",
        "Z<Z>Z"
      ]
    },
    {
      "cell_type": "markdown",
      "metadata": {
        "id": "-Wn-TAh42xNW"
      },
      "source": [
        "#### 28. What are the result of the following expressions?"
      ]
    },
    {
      "cell_type": "markdown",
      "metadata": {
        "id": "PpIjuOsZ2xNW"
      },
      "source": [
        "```python\n",
        "np.array(0) / np.array(0)\n",
        "np.array(0) // np.array(0)\n",
        "np.array([np.nan]).astype(int).astype(float)\n",
        "```"
      ]
    },
    {
      "cell_type": "code",
      "execution_count": null,
      "metadata": {
        "id": "8vA2k7a32xNW"
      },
      "outputs": [],
      "source": [
        "nan\n",
        "not a Arry\n",
        "Integers"
      ]
    },
    {
      "cell_type": "markdown",
      "metadata": {
        "id": "9pSVoLjd2xNW"
      },
      "source": [
        "#### 29. How to round away from zero a float array ? (★☆☆) \n",
        "(**hint**: np.uniform, np.copysign, np.ceil, np.abs)"
      ]
    },
    {
      "cell_type": "code",
      "execution_count": 62,
      "metadata": {
        "id": "EiohAZB-2xNW",
        "colab": {
          "base_uri": "https://localhost:8080/"
        },
        "outputId": "2fa05088-d618-401c-9421-51513e5768c7"
      },
      "outputs": [
        {
          "output_type": "stream",
          "name": "stdout",
          "text": [
            "[[0.02964182 0.33781414 0.2845253  0.31597564 0.16563948]\n",
            " [0.59130539 0.67477272 0.24279453 0.66659955 0.38174147]\n",
            " [0.69366109 0.51832886 0.77794077 0.44793374 0.46298619]\n",
            " [0.9506038  0.52607296 0.08851816 0.49608995 0.13209791]\n",
            " [0.12074849 0.28771855 0.00166445 0.39130231 0.40448574]]\n",
            "[[0.03 0.34 0.28 0.32 0.17]\n",
            " [0.59 0.67 0.24 0.67 0.38]\n",
            " [0.69 0.52 0.78 0.45 0.46]\n",
            " [0.95 0.53 0.09 0.5  0.13]\n",
            " [0.12 0.29 0.   0.39 0.4 ]]\n"
          ]
        }
      ],
      "source": [
        "arr = np.random.rand(5,5)\n",
        "print(arr)\n",
        "arr = np.round(arr,2)\n",
        "print(arr) "
      ]
    },
    {
      "cell_type": "markdown",
      "metadata": {
        "id": "cplhSac82xNW"
      },
      "source": [
        "#### 30. How to find common values between two arrays? (★☆☆) \n",
        "(**hint**: np.intersect1d)"
      ]
    },
    {
      "cell_type": "code",
      "execution_count": 64,
      "metadata": {
        "id": "DcH4PQB92xNX",
        "colab": {
          "base_uri": "https://localhost:8080/",
          "height": 235
        },
        "outputId": "48b5b59d-3314-4422-cf96-d5cf5e9bba4a"
      },
      "outputs": [
        {
          "output_type": "error",
          "ename": "TypeError",
          "evalue": "ignored",
          "traceback": [
            "\u001b[0;31m---------------------------------------------------------------------------\u001b[0m",
            "\u001b[0;31mTypeError\u001b[0m                                 Traceback (most recent call last)",
            "\u001b[0;32m<ipython-input-64-136ebee6a286>\u001b[0m in \u001b[0;36m<module>\u001b[0;34m\u001b[0m\n\u001b[1;32m      1\u001b[0m \u001b[0marr_1\u001b[0m \u001b[0;34m=\u001b[0m \u001b[0mnp\u001b[0m\u001b[0;34m.\u001b[0m\u001b[0marange\u001b[0m\u001b[0;34m(\u001b[0m\u001b[0;36m9\u001b[0m\u001b[0;34m)\u001b[0m\u001b[0;34m.\u001b[0m\u001b[0mreshape\u001b[0m\u001b[0;34m(\u001b[0m\u001b[0;36m3\u001b[0m\u001b[0;34m,\u001b[0m\u001b[0;36m3\u001b[0m\u001b[0;34m)\u001b[0m\u001b[0;34m\u001b[0m\u001b[0;34m\u001b[0m\u001b[0m\n\u001b[1;32m      2\u001b[0m \u001b[0marr_2\u001b[0m \u001b[0;34m=\u001b[0m \u001b[0mnp\u001b[0m\u001b[0;34m.\u001b[0m\u001b[0marray\u001b[0m\u001b[0;34m(\u001b[0m\u001b[0;34m[\u001b[0m\u001b[0;34m[\u001b[0m\u001b[0;36m0\u001b[0m\u001b[0;34m,\u001b[0m\u001b[0;36m1\u001b[0m\u001b[0;34m,\u001b[0m\u001b[0;36m2\u001b[0m\u001b[0;34m]\u001b[0m\u001b[0;34m,\u001b[0m\u001b[0;34m[\u001b[0m\u001b[0;36m3\u001b[0m\u001b[0;34m,\u001b[0m\u001b[0;36m4\u001b[0m\u001b[0;34m,\u001b[0m\u001b[0;36m5\u001b[0m\u001b[0;34m]\u001b[0m\u001b[0;34m,\u001b[0m\u001b[0;34m[\u001b[0m\u001b[0;36m1\u001b[0m\u001b[0;34m,\u001b[0m\u001b[0;36m1\u001b[0m\u001b[0;34m,\u001b[0m\u001b[0;36m1\u001b[0m\u001b[0;34m]\u001b[0m\u001b[0;34m]\u001b[0m\u001b[0;34m)\u001b[0m\u001b[0;34m\u001b[0m\u001b[0;34m\u001b[0m\u001b[0m\n\u001b[0;32m----> 3\u001b[0;31m \u001b[0mindices\u001b[0m \u001b[0;34m=\u001b[0m \u001b[0;34m[\u001b[0m\u001b[0mi\u001b[0m \u001b[0;32mfor\u001b[0m \u001b[0mi\u001b[0m\u001b[0;34m,\u001b[0m\u001b[0mx\u001b[0m\u001b[0;34m,\u001b[0m\u001b[0my\u001b[0m \u001b[0;32min\u001b[0m \u001b[0menumerate\u001b[0m\u001b[0;34m(\u001b[0m\u001b[0marr_1\u001b[0m\u001b[0;34m,\u001b[0m\u001b[0marr_2\u001b[0m\u001b[0;34m)\u001b[0m \u001b[0;32mif\u001b[0m \u001b[0;34m(\u001b[0m\u001b[0mx\u001b[0m \u001b[0;34m==\u001b[0m\u001b[0my\u001b[0m\u001b[0;34m)\u001b[0m \u001b[0;34m]\u001b[0m\u001b[0;34m\u001b[0m\u001b[0;34m\u001b[0m\u001b[0m\n\u001b[0m\u001b[1;32m      4\u001b[0m \u001b[0mindices\u001b[0m \u001b[0;34m=\u001b[0m \u001b[0;34m(\u001b[0m\u001b[0marr_1\u001b[0m \u001b[0;34m==\u001b[0m \u001b[0marr_2\u001b[0m\u001b[0;34m)\u001b[0m\u001b[0;34m\u001b[0m\u001b[0;34m\u001b[0m\u001b[0m\n\u001b[1;32m      5\u001b[0m \u001b[0mindices\u001b[0m\u001b[0;34m\u001b[0m\u001b[0;34m\u001b[0m\u001b[0m\n",
            "\u001b[0;31mTypeError\u001b[0m: only integer scalar arrays can be converted to a scalar index"
          ]
        }
      ],
      "source": [
        "arr_1 = np.arange(9).reshape(3,3)\n",
        "arr_2 = np.array([[0,1,2],[3,4,5],[1,1,1]])\n",
        "indices = [i for i,x,y in enumerate(arr_1,arr_2) if (x ==y) ]\n",
        "indices = (arr_1 == arr_2)\n",
        "indices\n",
        "\n"
      ]
    },
    {
      "cell_type": "markdown",
      "metadata": {
        "id": "h6fkq5hM2xNX"
      },
      "source": [
        "#### 31. How to ignore all numpy warnings (not recommended)? (★☆☆) \n",
        "(**hint**: np.seterr, np.errstate)"
      ]
    },
    {
      "cell_type": "code",
      "execution_count": 68,
      "metadata": {
        "id": "cKxq8JMS2xNX"
      },
      "outputs": [],
      "source": [
        "defaults = np.seterr(all=\"ignore\")\n",
        "defaults_TN= np.seterr(**defaults)"
      ]
    },
    {
      "cell_type": "markdown",
      "metadata": {
        "id": "qmGt-C1n2xNX"
      },
      "source": [
        "#### 32. Is the following expressions true? (★☆☆) \n",
        "(**hint**: imaginary number)"
      ]
    },
    {
      "cell_type": "markdown",
      "metadata": {
        "id": "nIqnma5F2xNX"
      },
      "source": [
        "```python\n",
        "np.sqrt(-1) == np.emath.sqrt(-1)\n",
        "```"
      ]
    },
    {
      "cell_type": "code",
      "execution_count": 70,
      "metadata": {
        "id": "e_yEteg22xNX",
        "colab": {
          "base_uri": "https://localhost:8080/"
        },
        "outputId": "22589383-41e3-49c9-86b1-8ae56818b590"
      },
      "outputs": [
        {
          "output_type": "execute_result",
          "data": {
            "text/plain": [
              "False"
            ]
          },
          "metadata": {},
          "execution_count": 70
        }
      ],
      "source": [
        "False"
      ]
    },
    {
      "cell_type": "markdown",
      "metadata": {
        "id": "FwCCXClW2xNX"
      },
      "source": [
        "#### 33. How to get the dates of yesterday, today and tomorrow? (★☆☆) \n",
        "(**hint**: np.datetime64, np.timedelta64)"
      ]
    },
    {
      "cell_type": "code",
      "execution_count": 75,
      "metadata": {
        "collapsed": true,
        "id": "5vMHcZzF2xNX",
        "colab": {
          "base_uri": "https://localhost:8080/"
        },
        "outputId": "030288dd-b98b-4818-e5f0-450e447c850a"
      },
      "outputs": [
        {
          "output_type": "stream",
          "name": "stdout",
          "text": [
            "2022-09-22 / 2022-09-23 / 2022-09-24\n"
          ]
        }
      ],
      "source": [
        "yesterday = np.datetime64('today', 'D') - np.timedelta64(1, 'D')\n",
        "today     = np.datetime64('today', 'D')\n",
        "tomorrow  = np.datetime64('today', 'D') + np.timedelta64(1, 'D')\n",
        "print(yesterday,today,tomorrow, sep=' / ')"
      ]
    },
    {
      "cell_type": "markdown",
      "metadata": {
        "id": "QGFK0XYN2xNX"
      },
      "source": [
        "#### 34. How to get all the dates corresponding to the month of July 2016? (★★☆) \n",
        "(**hint**: np.arange(dtype=datetime64\\['D'\\]))"
      ]
    },
    {
      "cell_type": "code",
      "execution_count": 76,
      "metadata": {
        "id": "VGnabi682xNX",
        "colab": {
          "base_uri": "https://localhost:8080/"
        },
        "outputId": "ac8787f7-fe46-496c-c364-7d4fa3ffc7fa"
      },
      "outputs": [
        {
          "output_type": "stream",
          "name": "stdout",
          "text": [
            "['2016-07-01' '2016-07-02' '2016-07-03' '2016-07-04' '2016-07-05'\n",
            " '2016-07-06' '2016-07-07' '2016-07-08' '2016-07-09' '2016-07-10'\n",
            " '2016-07-11' '2016-07-12' '2016-07-13' '2016-07-14' '2016-07-15'\n",
            " '2016-07-16' '2016-07-17' '2016-07-18' '2016-07-19' '2016-07-20'\n",
            " '2016-07-21' '2016-07-22' '2016-07-23' '2016-07-24' '2016-07-25'\n",
            " '2016-07-26' '2016-07-27' '2016-07-28' '2016-07-29' '2016-07-30'\n",
            " '2016-07-31']\n"
          ]
        }
      ],
      "source": [
        "Z = np.arange('2016-07', '2016-08', dtype='datetime64[D]')\n",
        "print(Z)"
      ]
    },
    {
      "cell_type": "markdown",
      "metadata": {
        "id": "cikNgHJ62xNX"
      },
      "source": [
        "#### 35. How to compute ((A+B)\\*(-A/2)) in place (without copy)? (★★☆) \n",
        "(**hint**: np.add(out=), np.negative(out=), np.multiply(out=), np.divide(out=))"
      ]
    },
    {
      "cell_type": "code",
      "execution_count": 83,
      "metadata": {
        "id": "4Awk0P5S2xNY",
        "colab": {
          "base_uri": "https://localhost:8080/",
          "height": 130
        },
        "outputId": "f12e61c9-06a8-44e0-ac91-e7a2d6a1f5e8"
      },
      "outputs": [
        {
          "output_type": "error",
          "ename": "SyntaxError",
          "evalue": "ignored",
          "traceback": [
            "\u001b[0;36m  File \u001b[0;32m\"<ipython-input-83-39d6224937fd>\"\u001b[0;36m, line \u001b[0;32m5\u001b[0m\n\u001b[0;31m    ​x=np.add(A,B)\u001b[0m\n\u001b[0m     ^\u001b[0m\n\u001b[0;31mSyntaxError\u001b[0m\u001b[0;31m:\u001b[0m invalid character in identifier\n"
          ]
        }
      ],
      "source": [
        "\n",
        "A = np.ones(3)*1\n",
        "B = np.ones(3)*2\n",
        "\n",
        "​x=np.add(A,B,out=B)\n",
        "y=np.divide(A,2,out=A)\n",
        "z=np.negative(A,out=A)\n",
        "w=np.dot(A,B)"
      ]
    },
    {
      "cell_type": "markdown",
      "metadata": {
        "id": "k9i7m-Vn2xNY"
      },
      "source": [
        "#### 36. Extract the integer part of a random array using 5 different methods (★★☆) \n",
        "(**hint**: %, np.floor, np.ceil, astype, np.trunc)"
      ]
    },
    {
      "cell_type": "code",
      "execution_count": 89,
      "metadata": {
        "id": "Bf87QA8n2xNY",
        "colab": {
          "base_uri": "https://localhost:8080/",
          "height": 130
        },
        "outputId": "1dfefe6f-ec2e-46d2-ed7b-70914c22acc1"
      },
      "outputs": [
        {
          "output_type": "error",
          "ename": "SyntaxError",
          "evalue": "ignored",
          "traceback": [
            "\u001b[0;36m  File \u001b[0;32m\"<ipython-input-89-24318384ee72>\"\u001b[0;36m, line \u001b[0;32m1\u001b[0m\n\u001b[0;31m    Z = np.random.random((​0​,​​10​))\u001b[0m\n\u001b[0m                            ^\u001b[0m\n\u001b[0;31mSyntaxError\u001b[0m\u001b[0;31m:\u001b[0m invalid character in identifier\n"
          ]
        }
      ],
      "source": [
        "Z = np.random.random((​0​,​​10​))\n",
        "Z\n",
        "print (Z - Z%1)\n",
        "print (np.floor(Z))\n",
        "print (np.ceil(Z)-1)\n",
        "print (Z.astype(int))"
      ]
    },
    {
      "cell_type": "markdown",
      "metadata": {
        "id": "1wFxaofx2xNY"
      },
      "source": [
        "#### 37. Create a 5x5 matrix with row values ranging from 0 to 4 (★★☆) \n",
        "(**hint**: np.arange)"
      ]
    },
    {
      "cell_type": "code",
      "execution_count": 92,
      "metadata": {
        "id": "lUQFb80l2xNY",
        "colab": {
          "base_uri": "https://localhost:8080/"
        },
        "outputId": "08af3252-9c24-4fe6-a6bd-a2a260750f33"
      },
      "outputs": [
        {
          "output_type": "stream",
          "name": "stdout",
          "text": [
            "[[0. 1. 2. 3. 4.]\n",
            " [0. 1. 2. 3. 4.]\n",
            " [0. 1. 2. 3. 4.]\n",
            " [0. 1. 2. 3. 4.]\n",
            " [0. 1. 2. 3. 4.]]\n"
          ]
        }
      ],
      "source": [
        "Z = np.zeros((5,5))\n",
        "Z += np.arange(5)\n",
        "print(Z)\n",
        "# z=np.arange(0,4).reshape(5,5)\n",
        "# print(z)"
      ]
    },
    {
      "cell_type": "markdown",
      "metadata": {
        "id": "pkFqqdXO2xNY"
      },
      "source": [
        "#### 38. Consider a generator function that generates 10 integers and use it to build an array (★☆☆) \n",
        "(**hint**: np.fromiter)"
      ]
    },
    {
      "cell_type": "code",
      "execution_count": null,
      "metadata": {
        "id": "Byffzw9w2xNY"
      },
      "outputs": [],
      "source": []
    },
    {
      "cell_type": "markdown",
      "metadata": {
        "id": "eUC2e2zy2xNY"
      },
      "source": [
        "#### 39. Create a vector of size 10 with values ranging from 0 to 1, both excluded (★★☆) \n",
        "(**hint**: np.linspace)"
      ]
    },
    {
      "cell_type": "code",
      "execution_count": 93,
      "metadata": {
        "id": "5g_bL0C52xNY",
        "colab": {
          "base_uri": "https://localhost:8080/",
          "height": 130
        },
        "outputId": "11b6b486-df63-47bb-d0b2-22761193a489"
      },
      "outputs": [
        {
          "output_type": "error",
          "ename": "SyntaxError",
          "evalue": "ignored",
          "traceback": [
            "\u001b[0;36m  File \u001b[0;32m\"<ipython-input-93-2e7df68cadbd>\"\u001b[0;36m, line \u001b[0;32m1\u001b[0m\n\u001b[0;31m    Z = np.linspace(​0​,​1​,​11​,endpoint=​False​)[​1​:]\u001b[0m\n\u001b[0m                      ^\u001b[0m\n\u001b[0;31mSyntaxError\u001b[0m\u001b[0;31m:\u001b[0m invalid character in identifier\n"
          ]
        }
      ],
      "source": [
        "Z = np.linspace(​0​,​1​,​11​,endpoint=​False​)[​1​:]\n",
        "print(Z)"
      ]
    },
    {
      "cell_type": "markdown",
      "metadata": {
        "id": "ino0PkQ_2xNZ"
      },
      "source": [
        "#### 40. Create a random vector of size 10 and sort it (★★☆) \n",
        "(**hint**: sort)"
      ]
    },
    {
      "cell_type": "code",
      "execution_count": 94,
      "metadata": {
        "id": "0fd_Jbda2xNZ",
        "colab": {
          "base_uri": "https://localhost:8080/"
        },
        "outputId": "67ed6a6a-7658-40ea-ce53-b3a6603e1f49"
      },
      "outputs": [
        {
          "output_type": "stream",
          "name": "stdout",
          "text": [
            "[0.12265586 0.29309791 0.33913405 0.34538701 0.39019205 0.67010489\n",
            " 0.81862162 0.85661392 0.94320046 0.958306  ]\n"
          ]
        }
      ],
      "source": [
        "Z = np.random.random(10)\n",
        "Z.sort()\n",
        "print(Z)"
      ]
    },
    {
      "cell_type": "markdown",
      "metadata": {
        "id": "GtGFwl162xNZ"
      },
      "source": [
        "#### 41. How to sum a small array faster than np.sum? (★★☆) \n",
        "(**hint**: np.add.reduce)"
      ]
    },
    {
      "cell_type": "code",
      "execution_count": 100,
      "metadata": {
        "id": "VY7rrHEH2xNZ",
        "colab": {
          "base_uri": "https://localhost:8080/"
        },
        "outputId": "9da41e4b-8961-4d96-a1a9-1837981765e7"
      },
      "outputs": [
        {
          "output_type": "execute_result",
          "data": {
            "text/plain": [
              "45"
            ]
          },
          "metadata": {},
          "execution_count": 100
        }
      ],
      "source": [
        "import numpy as np\n",
        "import functools as ft\n",
        "Z = np.arange(10)\n",
        "np.add.reduce(Z)\n",
        "# ​ft.reduce(np.add,Z,​0​)\n",
        "# Z"
      ]
    },
    {
      "cell_type": "markdown",
      "metadata": {
        "id": "vgRtxtz92xNZ"
      },
      "source": [
        "#### 42. Consider two random array A and B, check if they are equal (★★☆) \n",
        "(**hint**: np.allclose, np.array\\_equal)"
      ]
    },
    {
      "cell_type": "code",
      "execution_count": 103,
      "metadata": {
        "id": "D0s2PbR22xNa",
        "colab": {
          "base_uri": "https://localhost:8080/"
        },
        "outputId": "32a02074-b2b2-46e9-f5d9-509ac86f6738"
      },
      "outputs": [
        {
          "output_type": "stream",
          "name": "stdout",
          "text": [
            "[1 0 1 1 0] [0 1 0 1 0]\n",
            "False\n",
            "False\n"
          ]
        }
      ],
      "source": [
        "A = np.random.randint(0,2,5)\n",
        "B = np.random.randint(0,2,5)\n",
        "print(A,B)\n",
        "equal = np.allclose(A,B)\n",
        "print(equal)\n",
        "equal = np.array_equal(A,B)\n",
        "print(equal)"
      ]
    },
    {
      "cell_type": "markdown",
      "metadata": {
        "id": "II21gdQ92xNa"
      },
      "source": [
        "#### 43. Make an array immutable (read-only) (★★☆) \n",
        "(**hint**: flags.writeable)"
      ]
    },
    {
      "cell_type": "code",
      "execution_count": 106,
      "metadata": {
        "id": "ZUT7QPhd2xNa"
      },
      "outputs": [],
      "source": [
        "Z = np.zeros(10)\n",
        "Z.flags.writeable = False\n",
        "# Z[0] = 1"
      ]
    },
    {
      "cell_type": "markdown",
      "metadata": {
        "id": "X7g3R1Rb2xNa"
      },
      "source": [
        "#### 44. Consider a random 10x2 matrix representing cartesian coordinates, convert them to polar coordinates (★★☆) \n",
        "(**hint**: np.sqrt, np.arctan2)"
      ]
    },
    {
      "cell_type": "code",
      "execution_count": 110,
      "metadata": {
        "id": "azFAv3-f2xNa",
        "colab": {
          "base_uri": "https://localhost:8080/",
          "height": 130
        },
        "outputId": "c9dcc8d6-3947-4da1-e695-d3a467732723"
      },
      "outputs": [
        {
          "output_type": "error",
          "ename": "SyntaxError",
          "evalue": "ignored",
          "traceback": [
            "\u001b[0;36m  File \u001b[0;32m\"<ipython-input-110-7a7fa0c053bb>\"\u001b[0;36m, line \u001b[0;32m1\u001b[0m\n\u001b[0;31m    z= np.random.randint(​0​,​9​,(​10​,​2​))\u001b[0m\n\u001b[0m                           ^\u001b[0m\n\u001b[0;31mSyntaxError\u001b[0m\u001b[0;31m:\u001b[0m invalid character in identifier\n"
          ]
        }
      ],
      "source": [
        "z= np.random.randint(​0​,​9​,(​10​,​2​))\n",
        "x,y = z[:,0], z[:,1]\n",
        "r = np.sqrt(x**2+y**2)\n",
        "t = np.arctan2(y,x)\n",
        "poles = np.c_[r,t]\n",
        "poles"
      ]
    },
    {
      "cell_type": "markdown",
      "metadata": {
        "id": "HptrEzqZ2xNa"
      },
      "source": [
        "#### 45. Create random vector of size 10 and replace the maximum value by 0 (★★☆) \n",
        "(**hint**: argmax)"
      ]
    },
    {
      "cell_type": "code",
      "execution_count": 112,
      "metadata": {
        "id": "vo7AiVaw2xNa",
        "colab": {
          "base_uri": "https://localhost:8080/"
        },
        "outputId": "02ac498f-f978-42b2-9e6d-92e324c18029"
      },
      "outputs": [
        {
          "output_type": "execute_result",
          "data": {
            "text/plain": [
              "array([0.47473437, 0.35560793, 0.        , 0.50509206, 0.38621335,\n",
              "       0.43549232, 0.93504159, 0.82429078, 0.95360499, 0.54170129])"
            ]
          },
          "metadata": {},
          "execution_count": 112
        }
      ],
      "source": [
        "arr = np.random.random(10)\n",
        "# print(arr)\n",
        "arr[arr.argmax()] = 0\n",
        "arr"
      ]
    },
    {
      "cell_type": "markdown",
      "metadata": {
        "id": "JUrL62K_2xNa"
      },
      "source": [
        "#### 46. Create a structured array with `x` and `y` coordinates covering the \\[0,1\\]x\\[0,1\\] area (★★☆) \n",
        "(**hint**: np.meshgrid)"
      ]
    },
    {
      "cell_type": "code",
      "execution_count": 113,
      "metadata": {
        "id": "OfUEWoY82xNa",
        "colab": {
          "base_uri": "https://localhost:8080/",
          "height": 130
        },
        "outputId": "fbf67bb9-88e3-4a2d-e6d3-89a01aa59a31"
      },
      "outputs": [
        {
          "output_type": "error",
          "ename": "SyntaxError",
          "evalue": "ignored",
          "traceback": [
            "\u001b[0;36m  File \u001b[0;32m\"<ipython-input-113-e02900f2f552>\"\u001b[0;36m, line \u001b[0;32m1\u001b[0m\n\u001b[0;31m    X = np.random.randint(​11​,​22​,​10​)\u001b[0m\n\u001b[0m                             ^\u001b[0m\n\u001b[0;31mSyntaxError\u001b[0m\u001b[0;31m:\u001b[0m invalid character in identifier\n"
          ]
        }
      ],
      "source": []
    },
    {
      "cell_type": "markdown",
      "metadata": {
        "id": "FzD8ndri2xNb"
      },
      "source": [
        "####  47. Given two arrays, X and Y, construct the Cauchy matrix C (Cij =1/(xi - yj)) \n",
        "(**hint**: np.subtract.outer)"
      ]
    },
    {
      "cell_type": "code",
      "execution_count": 117,
      "metadata": {
        "id": "UNkpBZEk2xNb",
        "colab": {
          "base_uri": "https://localhost:8080/"
        },
        "outputId": "d694ab9b-24c7-4643-9d44-f70e1948d224"
      },
      "outputs": [
        {
          "output_type": "stream",
          "name": "stderr",
          "text": [
            "/usr/local/lib/python3.7/dist-packages/ipykernel_launcher.py:5: RuntimeWarning: divide by zero encountered in true_divide\n",
            "  \"\"\"\n"
          ]
        },
        {
          "output_type": "execute_result",
          "data": {
            "text/plain": [
              "array([[inf, inf, inf, inf, inf],\n",
              "       [inf, inf, inf, inf, inf],\n",
              "       [inf, inf, inf, inf, inf],\n",
              "       [inf, inf, inf, inf, inf],\n",
              "       [inf, inf, inf, inf, inf],\n",
              "       [inf, inf, inf, inf, inf],\n",
              "       [inf, inf, inf, inf, inf],\n",
              "       [inf, inf, inf, inf, inf],\n",
              "       [inf, inf, inf, inf, inf],\n",
              "       [inf, inf, inf, inf, inf],\n",
              "       [inf, inf, inf, inf, inf],\n",
              "       [inf, inf, inf, inf, inf],\n",
              "       [inf, inf, inf, inf, inf],\n",
              "       [inf, inf, inf, inf, inf],\n",
              "       [inf, inf, inf, inf, inf],\n",
              "       [inf, inf, inf, inf, inf],\n",
              "       [inf, inf, inf, inf, inf],\n",
              "       [inf, inf, inf, inf, inf],\n",
              "       [inf, inf, inf, inf, inf],\n",
              "       [inf, inf, inf, inf, inf],\n",
              "       [inf, inf, inf, inf, inf],\n",
              "       [inf, inf, inf, inf, inf],\n",
              "       [inf, inf, inf, inf, inf],\n",
              "       [inf, inf, inf, inf, inf],\n",
              "       [inf, inf, inf, inf, inf],\n",
              "       [inf, inf, inf, inf, inf],\n",
              "       [inf, inf, inf, inf, inf],\n",
              "       [inf, inf, inf, inf, inf],\n",
              "       [inf, inf, inf, inf, inf],\n",
              "       [inf, inf, inf, inf, inf],\n",
              "       [inf, inf, inf, inf, inf],\n",
              "       [inf, inf, inf, inf, inf],\n",
              "       [inf, inf, inf, inf, inf],\n",
              "       [inf, inf, inf, inf, inf],\n",
              "       [inf, inf, inf, inf, inf],\n",
              "       [inf, inf, inf, inf, inf],\n",
              "       [inf, inf, inf, inf, inf],\n",
              "       [inf, inf, inf, inf, inf],\n",
              "       [inf, inf, inf, inf, inf],\n",
              "       [inf, inf, inf, inf, inf],\n",
              "       [inf, inf, inf, inf, inf],\n",
              "       [inf, inf, inf, inf, inf],\n",
              "       [inf, inf, inf, inf, inf],\n",
              "       [inf, inf, inf, inf, inf],\n",
              "       [inf, inf, inf, inf, inf],\n",
              "       [inf, inf, inf, inf, inf],\n",
              "       [inf, inf, inf, inf, inf],\n",
              "       [inf, inf, inf, inf, inf],\n",
              "       [inf, inf, inf, inf, inf],\n",
              "       [inf, inf, inf, inf, inf]])"
            ]
          },
          "metadata": {},
          "execution_count": 117
        }
      ],
      "source": [
        "X = np.random.randint(0,11,(5,5))\n",
        "# X = np.random.randint(​11​,​22​,​10​)\n",
        "Y = np.tile(X,(10,1))\n",
        "X  = np.tile(X,(10,1))\n",
        "C = 1/(X - Y)\n",
        "#print(Y.reshape(1,10))Y = np.tile(Y,(10,1))\n",
        "#print(X)X  = np.tile(X,(10,1)).T\n",
        "#print(X)C = 1/(X - Y)\n",
        "C"
      ]
    },
    {
      "cell_type": "markdown",
      "metadata": {
        "id": "nDJSsidw2xNb"
      },
      "source": [
        "#### 48. Print the minimum and maximum representable value for each numpy scalar type (★★☆) \n",
        "(**hint**: np.iinfo, np.finfo, eps)"
      ]
    },
    {
      "cell_type": "code",
      "execution_count": 118,
      "metadata": {
        "id": "UaviZ47s2xNb",
        "colab": {
          "base_uri": "https://localhost:8080/"
        },
        "outputId": "d31ac5a3-4fd9-4eac-942f-673ea4184097"
      },
      "outputs": [
        {
          "output_type": "stream",
          "name": "stdout",
          "text": [
            "-128\n",
            "127\n",
            "-2147483648\n",
            "2147483647\n",
            "-9223372036854775808\n",
            "9223372036854775807\n",
            "-3.4028235e+38\n",
            "3.4028235e+38\n",
            "1.1920929e-07\n",
            "-1.7976931348623157e+308\n",
            "1.7976931348623157e+308\n",
            "2.220446049250313e-16\n"
          ]
        }
      ],
      "source": [
        "for dtype in [np.int8, np.int32, np.int64]:\n",
        "    print(np.iinfo(dtype).min)\n",
        "    print(np.iinfo(dtype).max)\n",
        "for dtype in [np.float32, np.float64]:\n",
        "    print(np.finfo(dtype).min)\n",
        "    print(np.finfo(dtype).max)\n",
        "    print(np.finfo(dtype).eps)"
      ]
    },
    {
      "cell_type": "markdown",
      "metadata": {
        "id": "_rJDPojL2xNb"
      },
      "source": [
        "#### 49. How to print all the values of an array? (★★☆) \n",
        "(**hint**: np.set\\_printoptions)"
      ]
    },
    {
      "cell_type": "code",
      "execution_count": 119,
      "metadata": {
        "id": "nT-MoY7m2xNb",
        "colab": {
          "base_uri": "https://localhost:8080/"
        },
        "outputId": "ca5146da-ccb4-4994-8b7e-441c0292dd44"
      },
      "outputs": [
        {
          "output_type": "execute_result",
          "data": {
            "text/plain": [
              "[1, 2, 3]"
            ]
          },
          "metadata": {},
          "execution_count": 119
        }
      ],
      "source": [
        "z=[1,2,3]\n",
        "z"
      ]
    },
    {
      "cell_type": "markdown",
      "metadata": {
        "id": "_h3yjSy72xNb"
      },
      "source": [
        "#### 50. How to find the closest value (to a given scalar) in a vector? (★★☆) \n",
        "(**hint**: argmin)"
      ]
    },
    {
      "cell_type": "code",
      "execution_count": 121,
      "metadata": {
        "id": "biT0RyPw2xNb",
        "colab": {
          "base_uri": "https://localhost:8080/",
          "height": 130
        },
        "outputId": "ba66d7cf-9938-412b-e5ed-6d1a66a5357c"
      },
      "outputs": [
        {
          "output_type": "error",
          "ename": "SyntaxError",
          "evalue": "ignored",
          "traceback": [
            "\u001b[0;36m  File \u001b[0;32m\"<ipython-input-121-03273bf4198d>\"\u001b[0;36m, line \u001b[0;32m1\u001b[0m\n\u001b[0;31m    arr = np.random.uniform(​0​,(​10​,​10​))\u001b[0m\n\u001b[0m                              ^\u001b[0m\n\u001b[0;31mSyntaxError\u001b[0m\u001b[0;31m:\u001b[0m invalid character in identifier\n"
          ]
        }
      ],
      "source": [
        "arr = np.random.uniform(​0​,(​10​,​10​))\n",
        "scal = 5\n",
        "arr_1 = np.abs(arr - 5)\n",
        "ind = arr_1.argmin()\n",
        "print(arr)\n",
        "print('*'*60)\n",
        "print(arr[ind])\n"
      ]
    },
    {
      "cell_type": "markdown",
      "metadata": {
        "id": "F5BAPF2Z2xNb"
      },
      "source": [
        "#### 51. Create a structured array representing a position (x,y) and a color (r,g,b) (★★☆) \n",
        "(**hint**: dtype)"
      ]
    },
    {
      "cell_type": "code",
      "execution_count": 122,
      "metadata": {
        "id": "mfKJEejK2xNb",
        "colab": {
          "base_uri": "https://localhost:8080/"
        },
        "outputId": "25d4c429-3d1c-44dd-a4d3-bd4b87ea2bf9"
      },
      "outputs": [
        {
          "output_type": "stream",
          "name": "stdout",
          "text": [
            "[((0., 0.), (0., 0., 0.)) ((0., 0.), (0., 0., 0.))\n",
            " ((0., 0.), (0., 0., 0.)) ((0., 0.), (0., 0., 0.))\n",
            " ((0., 0.), (0., 0., 0.)) ((0., 0.), (0., 0., 0.))\n",
            " ((0., 0.), (0., 0., 0.)) ((0., 0.), (0., 0., 0.))\n",
            " ((0., 0.), (0., 0., 0.)) ((0., 0.), (0., 0., 0.))]\n"
          ]
        }
      ],
      "source": [
        "Z = np.zeros(10, [ ('position', [ ('x', float),\n",
        "                                  ('y', float)]),\n",
        "                   ('color',    [ ('r', float),\n",
        "                                  ('g', float),\n",
        "                                  ('b', float)])])\n",
        "print(Z)"
      ]
    },
    {
      "cell_type": "markdown",
      "metadata": {
        "id": "b2CkVbfe2xNb"
      },
      "source": [
        "#### 52. Consider a random vector with shape (100,2) representing coordinates, find point by point distances (★★☆) \n",
        "(**hint**: np.atleast\\_2d, T, np.sqrt)"
      ]
    },
    {
      "cell_type": "code",
      "execution_count": 124,
      "metadata": {
        "id": "fY24a0FY2xNc",
        "colab": {
          "base_uri": "https://localhost:8080/",
          "height": 130
        },
        "outputId": "25470553-64c1-437d-d07c-98307625e64f"
      },
      "outputs": [
        {
          "output_type": "error",
          "ename": "SyntaxError",
          "evalue": "ignored",
          "traceback": [
            "\u001b[0;36m  File \u001b[0;32m\"<ipython-input-124-01e371391e6f>\"\u001b[0;36m, line \u001b[0;32m1\u001b[0m\n\u001b[0;31m    arr = np.random.rand(​100​,​2​)\u001b[0m\n\u001b[0m                             ^\u001b[0m\n\u001b[0;31mSyntaxError\u001b[0m\u001b[0;31m:\u001b[0m invalid character in identifier\n"
          ]
        }
      ],
      "source": [
        "arr = np.random.random((​100​,​2​))\n",
        "X,Y = np.atleast_2d(arr[:,​0​],arr[:,​1​])\n",
        "D = np.sqrt( (X-X.T)**2 + (Y-Y.T)**2)\n",
        "# Much faster with scipyimport scipy\n",
        "# Thanks Gavin Heverly-Coulson (#issue 1)import scipy.spatial\n",
        "Z = np.random.random((​10​,​2​))\n",
        "D = scipy.spatial.distance.cdist(Z,Z)\n",
        "print(D)"
      ]
    },
    {
      "cell_type": "markdown",
      "metadata": {
        "id": "amcDBRGn2xNc"
      },
      "source": [
        "#### 53. How to convert a float (32 bits) array into an integer (32 bits) in place? \n",
        "(**hint**: astype(copy=False))"
      ]
    },
    {
      "cell_type": "code",
      "execution_count": 126,
      "metadata": {
        "id": "6GXu7F7P2xNc",
        "colab": {
          "base_uri": "https://localhost:8080/"
        },
        "outputId": "063dda81-4244-4462-ca07-88616ecb350a"
      },
      "outputs": [
        {
          "output_type": "stream",
          "name": "stdout",
          "text": [
            "[2. 1. 2. 3. 4. 5. 6. 7. 8. 9.]\n"
          ]
        }
      ],
      "source": [
        "Z = np.arange(10, dtype=np.float32)\n",
        "Z_1 = Z.astype(np.float32, copy=False)\n",
        "Z_1[0] = 2\n",
        "print(Z)"
      ]
    },
    {
      "cell_type": "markdown",
      "metadata": {
        "id": "c_ghMLyX2xNc"
      },
      "source": [
        "#### 54. How to read the following file? (★★☆) \n",
        "(**hint**: np.genfromtxt)"
      ]
    },
    {
      "cell_type": "markdown",
      "metadata": {
        "id": "HN4vPGm82xNc"
      },
      "source": [
        "```\n",
        "1, 2, 3, 4, 5\n",
        "6,  ,  , 7, 8\n",
        " ,  , 9,10,11\n",
        "```"
      ]
    },
    {
      "cell_type": "code",
      "execution_count": 128,
      "metadata": {
        "id": "I24CEYaZ2xNc",
        "colab": {
          "base_uri": "https://localhost:8080/"
        },
        "outputId": "5423e922-63cf-4e4e-9ffe-bc537fa51198"
      },
      "outputs": [
        {
          "output_type": "stream",
          "name": "stdout",
          "text": [
            "[[ 1  2  3  4  5]\n",
            " [ 6 -1 -1  7  8]\n",
            " [-1 -1  9 10 11]]\n"
          ]
        },
        {
          "output_type": "stream",
          "name": "stderr",
          "text": [
            "/usr/local/lib/python3.7/dist-packages/ipykernel_launcher.py:5: DeprecationWarning: `np.int` is a deprecated alias for the builtin `int`. To silence this warning, use `int` by itself. Doing this will not modify any behavior and is safe. When replacing `np.int`, you may wish to use e.g. `np.int64` or `np.int32` to specify the precision. If you wish to review your current use, check the release note link for additional information.\n",
            "Deprecated in NumPy 1.20; for more details and guidance: https://numpy.org/devdocs/release/1.20.0-notes.html#deprecations\n",
            "  \"\"\"\n"
          ]
        }
      ],
      "source": [
        "from io import StringIO\n",
        "s = StringIO(\"\"\"1, 2, 3, 4, 5\\n\n",
        "              6,  ,  , 7, 8\\n\n",
        "              ,  , 9,10,11\\n\"\"\")\n",
        "Z = np.genfromtxt(s, delimiter=\",\", dtype=np.int)\n",
        "print(Z)"
      ]
    },
    {
      "cell_type": "markdown",
      "metadata": {
        "id": "jNXOiT4K2xNc"
      },
      "source": [
        "#### 55. What is the equivalent of enumerate for numpy arrays? (★★☆) \n",
        "(**hint**: np.ndenumerate, np.ndindex)"
      ]
    },
    {
      "cell_type": "code",
      "execution_count": 130,
      "metadata": {
        "id": "j9QlytZ12xNc",
        "colab": {
          "base_uri": "https://localhost:8080/",
          "height": 130
        },
        "outputId": "a06def6d-16ab-4aa2-b7ab-ba8200f31d8d"
      },
      "outputs": [
        {
          "output_type": "error",
          "ename": "SyntaxError",
          "evalue": "ignored",
          "traceback": [
            "\u001b[0;36m  File \u001b[0;32m\"<ipython-input-130-4270c4e02293>\"\u001b[0;36m, line \u001b[0;32m1\u001b[0m\n\u001b[0;31m    Z = np.arange(​0,9​).reshape(​3​,​3​)\u001b[0m\n\u001b[0m                   ^\u001b[0m\n\u001b[0;31mSyntaxError\u001b[0m\u001b[0;31m:\u001b[0m invalid character in identifier\n"
          ]
        }
      ],
      "source": [
        "Z = np.arange(​0,9​).reshape(​3​,​3​)\n",
        "for index, value in np.ndenumerate(Z):\n",
        "    print(index, value)\n",
        "for index in np.ndindex(Z.shape):\n",
        "    print(index, Z[index])"
      ]
    },
    {
      "cell_type": "markdown",
      "metadata": {
        "id": "Pesl_PZP2xNc"
      },
      "source": [
        "#### 56. Generate a generic 2D Gaussian-like array (★★☆) \n",
        "(**hint**: np.meshgrid, np.exp)"
      ]
    },
    {
      "cell_type": "code",
      "execution_count": 131,
      "metadata": {
        "id": "Ln1Gm_P12xNc",
        "colab": {
          "base_uri": "https://localhost:8080/",
          "height": 130
        },
        "outputId": "385c1606-0d0c-47cd-8f5d-3e553f7e5fdf"
      },
      "outputs": [
        {
          "output_type": "error",
          "ename": "SyntaxError",
          "evalue": "ignored",
          "traceback": [
            "\u001b[0;36m  File \u001b[0;32m\"<ipython-input-131-e9238e1c7363>\"\u001b[0;36m, line \u001b[0;32m1\u001b[0m\n\u001b[0;31m    sigma,myu = 1.0,0.0X,Y  = np.meshgrid(np.linspace(-​1​,​1​,​10​),np.linspace(-​1​,​1​,​10​))\u001b[0m\n\u001b[0m                       ^\u001b[0m\n\u001b[0;31mSyntaxError\u001b[0m\u001b[0;31m:\u001b[0m invalid syntax\n"
          ]
        }
      ],
      "source": [
        "sigma,myu = 1.0,0.0X,Y  = np.meshgrid(np.linspace(-​1​,​1​,​10​),np.linspace(-​1​,​1​,​10​))\n",
        "D = np.sqrt(X**2+Y**2)\n",
        "G = np.exp(-(D-myu)**​2​/(​2​*sigma**​2​))\n",
        "print(G)"
      ]
    },
    {
      "cell_type": "markdown",
      "metadata": {
        "id": "BdZZJaQ52xNc"
      },
      "source": [
        "#### 57. How to randomly place p elements in a 2D array? (★★☆) \n",
        "(**hint**: np.put, np.random.choice)"
      ]
    },
    {
      "cell_type": "code",
      "execution_count": 133,
      "metadata": {
        "id": "eyLIX5r22xNd",
        "colab": {
          "base_uri": "https://localhost:8080/"
        },
        "outputId": "e3ce503b-5646-444e-eab6-ea8644753473"
      },
      "outputs": [
        {
          "output_type": "stream",
          "name": "stdout",
          "text": [
            "[[0. 0. 0. 0. 0. 0. 0. 0. 0. 0.]\n",
            " [0. 0. 0. 0. 0. 0. 0. 0. 0. 0.]\n",
            " [0. 0. 0. 0. 0. 0. 0. 0. 0. 0.]\n",
            " [0. 0. 0. 0. 0. 0. 0. 0. 0. 0.]\n",
            " [0. 0. 0. 0. 1. 0. 0. 0. 1. 0.]\n",
            " [0. 0. 0. 0. 0. 0. 0. 0. 0. 0.]\n",
            " [0. 0. 0. 0. 0. 0. 0. 0. 0. 0.]\n",
            " [0. 0. 0. 0. 0. 0. 0. 0. 0. 0.]\n",
            " [0. 0. 1. 0. 0. 0. 0. 0. 0. 0.]\n",
            " [0. 0. 0. 0. 0. 0. 0. 0. 0. 0.]]\n",
            "[[0. 0. 0. 0. 0. 0. 0. 0. 0. 0.]\n",
            " [0. 1. 0. 0. 0. 0. 0. 0. 0. 0.]\n",
            " [0. 0. 0. 0. 0. 0. 0. 0. 0. 0.]\n",
            " [0. 0. 0. 0. 0. 0. 0. 0. 0. 0.]\n",
            " [0. 0. 0. 0. 1. 0. 0. 0. 1. 0.]\n",
            " [0. 0. 0. 0. 0. 0. 0. 0. 0. 0.]\n",
            " [0. 0. 0. 0. 0. 0. 0. 0. 0. 0.]\n",
            " [0. 0. 0. 0. 0. 0. 0. 0. 0. 0.]\n",
            " [0. 0. 1. 0. 0. 0. 0. 0. 0. 0.]\n",
            " [0. 0. 0. 0. 0. 0. 0. 0. 0. 0.]]\n"
          ]
        }
      ],
      "source": [
        "n = 10\n",
        "p = 3\n",
        "Z = np.zeros((n,n))\n",
        "np.put(Z, np.random.choice(range(n*n), p, replace=False),1)\n",
        "print(Z)\n",
        "np.put(Z,11,1)\n",
        "print(Z)"
      ]
    },
    {
      "cell_type": "markdown",
      "metadata": {
        "id": "MDhNQVEN2xNd"
      },
      "source": [
        "#### 58. Subtract the mean of each row of a matrix (★★☆) \n",
        "(**hint**: mean(axis=,keepdims=))"
      ]
    },
    {
      "cell_type": "code",
      "execution_count": 134,
      "metadata": {
        "id": "T5X6ZK6Y2xNd",
        "colab": {
          "base_uri": "https://localhost:8080/"
        },
        "outputId": "d9d1c574-5a6f-41ad-bfb9-8b96ce95b7ef"
      },
      "outputs": [
        {
          "output_type": "stream",
          "name": "stdout",
          "text": [
            "[[ 0.06478271 -0.05113866 -0.10392767  0.29733792 -0.14068836 -0.19804204\n",
            "  -0.20884926  0.49233509  0.07171609 -0.22352583]\n",
            " [ 0.13759787  0.04422544  0.10566217  0.29737713 -0.41496095  0.45665726\n",
            "  -0.3052162  -0.43196456  0.46439859 -0.35377674]\n",
            " [ 0.01675276  0.33806338 -0.13719601 -0.21705078  0.2880186   0.326114\n",
            "   0.14649252 -0.40834495  0.1708274  -0.52367691]\n",
            " [-0.21089394  0.37373402 -0.18948223  0.06435879 -0.58981999  0.01001806\n",
            "   0.19884158  0.12469029  0.0784669   0.14008652]\n",
            " [ 0.19440012  0.26299036 -0.43078158 -0.02009217  0.26143665  0.25505915\n",
            "   0.15569872  0.00162176 -0.12596288 -0.55437013]]\n"
          ]
        },
        {
          "output_type": "execute_result",
          "data": {
            "text/plain": [
              "array([[ True],\n",
              "       [ True],\n",
              "       [ True],\n",
              "       [ True],\n",
              "       [ True]])"
            ]
          },
          "metadata": {},
          "execution_count": 134
        }
      ],
      "source": [
        "X = np.random.rand(5, 10)\n",
        "Y = X - X.mean(axis = 1,keepdims = True)\n",
        "print(Y)\n",
        "X.mean(axis = 1).reshape(-1,1) == X.mean(axis = 1,keepdims =True)"
      ]
    },
    {
      "cell_type": "markdown",
      "metadata": {
        "id": "ysQ_U1Yg2xNd"
      },
      "source": [
        "#### 59. How to sort an array by the nth column? (★★☆) \n",
        "(**hint**: argsort)"
      ]
    },
    {
      "cell_type": "code",
      "execution_count": 135,
      "metadata": {
        "id": "IU8pO4Gw2xNd",
        "colab": {
          "base_uri": "https://localhost:8080/",
          "height": 130
        },
        "outputId": "cb1f911f-c8e0-4e58-b7a7-1dffcab0e0b9"
      },
      "outputs": [
        {
          "output_type": "error",
          "ename": "SyntaxError",
          "evalue": "ignored",
          "traceback": [
            "\u001b[0;36m  File \u001b[0;32m\"<ipython-input-135-97e05514385f>\"\u001b[0;36m, line \u001b[0;32m1\u001b[0m\n\u001b[0;31m    Z = np.random.randint(​0​,​10​,(​5​,​5​))\u001b[0m\n\u001b[0m                            ^\u001b[0m\n\u001b[0;31mSyntaxError\u001b[0m\u001b[0;31m:\u001b[0m invalid character in identifier\n"
          ]
        }
      ],
      "source": [
        "Z = np.random.randint(​0​,​10​,(​5​,​5​))\n",
        "print(Z)\n",
        "# Z_1 = Z# for ind in range(5):#     Z_1[:,ind].sort()​#print(Z_1)​print​(Z[(-Z)[:,​1​].argsort()])\n",
        "print(Z[:,Z[1,:].argsort()])"
      ]
    },
    {
      "cell_type": "markdown",
      "metadata": {
        "id": "d8mKeK9o2xNd"
      },
      "source": [
        "#### 60. How to tell if a given 2D array has null columns? (★★☆) \n",
        "(**hint**: any, ~)"
      ]
    },
    {
      "cell_type": "code",
      "execution_count": 136,
      "metadata": {
        "id": "EMYhICwR2xNd",
        "colab": {
          "base_uri": "https://localhost:8080/",
          "height": 130
        },
        "outputId": "ca15083f-05f7-4928-cb18-e31dfe9709ed"
      },
      "outputs": [
        {
          "output_type": "error",
          "ename": "SyntaxError",
          "evalue": "ignored",
          "traceback": [
            "\u001b[0;36m  File \u001b[0;32m\"<ipython-input-136-2ec6c25b583d>\"\u001b[0;36m, line \u001b[0;32m1\u001b[0m\n\u001b[0;31m    Z = np.random.randint(​0​,​3​,(​3​,​10​))\u001b[0m\n\u001b[0m                            ^\u001b[0m\n\u001b[0;31mSyntaxError\u001b[0m\u001b[0;31m:\u001b[0m invalid character in identifier\n"
          ]
        }
      ],
      "source": [
        "Z = np.random.randint(​0​,​3​,(​3​,​10​))\n",
        "Z[:,1] = 0Z = Z.astype(bool)\n",
        "print(Z)\n",
        "print(~Z)\n",
        "(Z).any(axis = 0)"
      ]
    },
    {
      "cell_type": "markdown",
      "metadata": {
        "id": "dXCAamk82xNd"
      },
      "source": [
        "#### 61. Find the nearest value from a given value in an array (★★☆) \n",
        "(**hint**: np.abs, argmin, flat)"
      ]
    },
    {
      "cell_type": "code",
      "execution_count": 136,
      "metadata": {
        "id": "rLLCTrA72xNd"
      },
      "outputs": [],
      "source": []
    },
    {
      "cell_type": "markdown",
      "metadata": {
        "id": "qDNkrzdf2xNd"
      },
      "source": [
        "#### 62. Considering two arrays with shape (1,3) and (3,1), how to compute their sum using an iterator? (★★☆) \n",
        "(**hint**: np.nditer)"
      ]
    },
    {
      "cell_type": "code",
      "execution_count": null,
      "metadata": {
        "id": "M3cJdbNC2xNd"
      },
      "outputs": [],
      "source": []
    },
    {
      "cell_type": "markdown",
      "metadata": {
        "id": "ayZrgtXM2xNd"
      },
      "source": [
        "#### 63. Create an array class that has a name attribute (★★☆) \n",
        "(**hint**: class method)"
      ]
    },
    {
      "cell_type": "code",
      "execution_count": null,
      "metadata": {
        "id": "_TDZuNd12xNe"
      },
      "outputs": [],
      "source": []
    },
    {
      "cell_type": "markdown",
      "metadata": {
        "id": "a7bqAPsN2xNe"
      },
      "source": [
        "#### 64. Consider a given vector, how to add 1 to each element indexed by a second vector (be careful with repeated indices)? (★★★) \n",
        "(**hint**: np.bincount | np.add.at)"
      ]
    },
    {
      "cell_type": "code",
      "execution_count": null,
      "metadata": {
        "id": "E6d3VWZf2xNe"
      },
      "outputs": [],
      "source": []
    },
    {
      "cell_type": "markdown",
      "metadata": {
        "id": "Ocqp3sh-2xNe"
      },
      "source": [
        "#### 65. How to accumulate elements of a vector (X) to an array (F) based on an index list (I)? (★★★) \n",
        "(**hint**: np.bincount)"
      ]
    },
    {
      "cell_type": "code",
      "execution_count": null,
      "metadata": {
        "id": "mYXoEPuS2xNe"
      },
      "outputs": [],
      "source": []
    },
    {
      "cell_type": "markdown",
      "metadata": {
        "id": "EopRgxO92xNe"
      },
      "source": [
        "#### 66. Considering a (w,h,3) image of (dtype=ubyte), compute the number of unique colors (★★★) \n",
        "(**hint**: np.unique)"
      ]
    },
    {
      "cell_type": "code",
      "execution_count": null,
      "metadata": {
        "id": "RndgP-o32xNe"
      },
      "outputs": [],
      "source": []
    },
    {
      "cell_type": "markdown",
      "metadata": {
        "id": "JcozzWIu2xNe"
      },
      "source": [
        "#### 67. Considering a four dimensions array, how to get sum over the last two axis at once? (★★★) \n",
        "(**hint**: sum(axis=(-2,-1)))"
      ]
    },
    {
      "cell_type": "code",
      "execution_count": null,
      "metadata": {
        "id": "1kpvBWkv2xNe"
      },
      "outputs": [],
      "source": []
    },
    {
      "cell_type": "markdown",
      "metadata": {
        "id": "Ff3xSQ7Z2xNe"
      },
      "source": [
        "#### 68. Considering a one-dimensional vector D, how to compute means of subsets of D using a vector S of same size describing subset  indices? (★★★) \n",
        "(**hint**: np.bincount)"
      ]
    },
    {
      "cell_type": "code",
      "execution_count": null,
      "metadata": {
        "id": "eYxBHwmc2xNf"
      },
      "outputs": [],
      "source": []
    },
    {
      "cell_type": "markdown",
      "metadata": {
        "id": "a0wfpIyd2xNf"
      },
      "source": [
        "#### 69. How to get the diagonal of a dot product? (★★★) \n",
        "(**hint**: np.diag)"
      ]
    },
    {
      "cell_type": "code",
      "execution_count": null,
      "metadata": {
        "id": "UW00B_Ak2xNf"
      },
      "outputs": [],
      "source": []
    },
    {
      "cell_type": "markdown",
      "metadata": {
        "id": "Mc8vFvc-2xNf"
      },
      "source": [
        "#### 70. Consider the vector \\[1, 2, 3, 4, 5\\], how to build a new vector with 3 consecutive zeros interleaved between each value? (★★★) \n",
        "(**hint**: array\\[::4\\])"
      ]
    },
    {
      "cell_type": "code",
      "execution_count": null,
      "metadata": {
        "id": "UzRGdyZy2xNf"
      },
      "outputs": [],
      "source": []
    },
    {
      "cell_type": "markdown",
      "metadata": {
        "id": "Bv52hRUL2xNf"
      },
      "source": [
        "#### 71. Consider an array of dimension (5,5,3), how to mulitply it by an array with dimensions (5,5)? (★★★) \n",
        "(**hint**: array\\[:, :, None\\])"
      ]
    },
    {
      "cell_type": "code",
      "execution_count": null,
      "metadata": {
        "collapsed": true,
        "id": "7-dKPPji2xNf"
      },
      "outputs": [],
      "source": []
    },
    {
      "cell_type": "markdown",
      "metadata": {
        "id": "cYytbtJ82xNf"
      },
      "source": [
        "#### 72. How to swap two rows of an array? (★★★) \n",
        "(**hint**: array\\[\\[\\]\\] = array\\[\\[\\]\\])"
      ]
    },
    {
      "cell_type": "code",
      "execution_count": null,
      "metadata": {
        "id": "vzqGLoxs2xNf"
      },
      "outputs": [],
      "source": []
    },
    {
      "cell_type": "markdown",
      "metadata": {
        "id": "M_o53bc82xNf"
      },
      "source": [
        "#### 73. Consider a set of 10 triplets describing 10 triangles (with shared vertices), find the set of unique line segments composing all the  triangles (★★★) \n",
        "(**hint**: repeat, np.roll, np.sort, view, np.unique)"
      ]
    },
    {
      "cell_type": "code",
      "execution_count": null,
      "metadata": {
        "id": "g5RvZ3CR2xNf"
      },
      "outputs": [],
      "source": []
    },
    {
      "cell_type": "markdown",
      "metadata": {
        "id": "BbL3mkaY2xNg"
      },
      "source": [
        "#### 74. Given an array C that is a bincount, how to produce an array A such that np.bincount(A) == C? (★★★) \n",
        "(**hint**: np.repeat)"
      ]
    },
    {
      "cell_type": "code",
      "execution_count": null,
      "metadata": {
        "id": "tKJDp3HB2xNg"
      },
      "outputs": [],
      "source": []
    },
    {
      "cell_type": "markdown",
      "metadata": {
        "id": "WCzNy8Mm2xNg"
      },
      "source": [
        "#### 75. How to compute averages using a sliding window over an array? (★★★) \n",
        "(**hint**: np.cumsum)"
      ]
    },
    {
      "cell_type": "code",
      "execution_count": null,
      "metadata": {
        "id": "-1XyKLZy2xNg"
      },
      "outputs": [],
      "source": []
    },
    {
      "cell_type": "markdown",
      "metadata": {
        "id": "dl3IaI9N2xNg"
      },
      "source": [
        "#### 76. Consider a one-dimensional array Z, build a two-dimensional array whose first row is (Z\\[0\\],Z\\[1\\],Z\\[2\\]) and each subsequent row is  shifted by 1 (last row should be (Z\\[-3\\],Z\\[-2\\],Z\\[-1\\]) (★★★) \n",
        "(**hint**: from numpy.lib import stride_tricks)"
      ]
    },
    {
      "cell_type": "code",
      "execution_count": null,
      "metadata": {
        "id": "4xWtYN0h2xNg"
      },
      "outputs": [],
      "source": []
    },
    {
      "cell_type": "markdown",
      "metadata": {
        "id": "hoOgcPqW2xNg"
      },
      "source": [
        "#### 77. How to negate a boolean, or to change the sign of a float inplace? (★★★) \n",
        "(**hint**: np.logical_not, np.negative)"
      ]
    },
    {
      "cell_type": "code",
      "execution_count": null,
      "metadata": {
        "id": "5J1ARzPj2xNg"
      },
      "outputs": [],
      "source": []
    },
    {
      "cell_type": "markdown",
      "metadata": {
        "id": "VrKo_72F2xNg"
      },
      "source": [
        "#### 78. Consider 2 sets of points P0,P1 describing lines (2d) and a point p, how to compute distance from p to each line i  (P0\\[i\\],P1\\[i\\])? (★★★)"
      ]
    },
    {
      "cell_type": "code",
      "execution_count": null,
      "metadata": {
        "id": "hUuVacUW2xNg"
      },
      "outputs": [],
      "source": []
    },
    {
      "cell_type": "markdown",
      "metadata": {
        "id": "NUp9oM9M2xNg"
      },
      "source": [
        "#### 79. Consider 2 sets of points P0,P1 describing lines (2d) and a set of points P, how to compute distance from each point j (P\\[j\\]) to each line i (P0\\[i\\],P1\\[i\\])? (★★★)"
      ]
    },
    {
      "cell_type": "code",
      "execution_count": null,
      "metadata": {
        "id": "cS0Kj_xo2xNg"
      },
      "outputs": [],
      "source": []
    },
    {
      "cell_type": "markdown",
      "metadata": {
        "id": "SNiWHFb52xNh"
      },
      "source": [
        "#### 80. Consider an arbitrary array, write a function that extract a subpart with a fixed shape and centered on a given element (pad with a `fill` value when necessary) (★★★) \n",
        "(**hint**: minimum, maximum)"
      ]
    },
    {
      "cell_type": "code",
      "execution_count": null,
      "metadata": {
        "id": "buatmnwB2xNh"
      },
      "outputs": [],
      "source": []
    },
    {
      "cell_type": "markdown",
      "metadata": {
        "id": "k1LMdy6y2xNh"
      },
      "source": [
        "#### 81. Consider an array Z = \\[1,2,3,4,5,6,7,8,9,10,11,12,13,14\\], how to generate an array R = \\[\\[1,2,3,4\\], \\[2,3,4,5\\], \\[3,4,5,6\\], ..., \\[11,12,13,14\\]\\]? (★★★) \n",
        "(**hint**: stride\\_tricks.as\\_strided)"
      ]
    },
    {
      "cell_type": "code",
      "execution_count": null,
      "metadata": {
        "id": "MhzCKj3x2xNh"
      },
      "outputs": [],
      "source": []
    },
    {
      "cell_type": "markdown",
      "metadata": {
        "id": "BCkugBzn2xNi"
      },
      "source": [
        "#### 82. Compute a matrix rank (★★★) \n",
        "(**hint**: np.linalg.svd) (suggestion: np.linalg.svd)"
      ]
    },
    {
      "cell_type": "code",
      "execution_count": null,
      "metadata": {
        "id": "mV1ZrlCv2xNi"
      },
      "outputs": [],
      "source": []
    },
    {
      "cell_type": "markdown",
      "metadata": {
        "id": "dnfTfEKL2xNi"
      },
      "source": [
        "#### 83. How to find the most frequent value in an array? \n",
        "(**hint**: np.bincount, argmax)"
      ]
    },
    {
      "cell_type": "code",
      "execution_count": null,
      "metadata": {
        "id": "WSL8gEjk2xNi"
      },
      "outputs": [],
      "source": []
    },
    {
      "cell_type": "markdown",
      "metadata": {
        "id": "lpxomEVq2xNi"
      },
      "source": [
        "#### 84. Extract all the contiguous 3x3 blocks from a random 10x10 matrix (★★★) \n",
        "(**hint**: stride\\_tricks.as\\_strided)"
      ]
    },
    {
      "cell_type": "code",
      "execution_count": null,
      "metadata": {
        "id": "yBUrV1fM2xNi"
      },
      "outputs": [],
      "source": []
    },
    {
      "cell_type": "markdown",
      "metadata": {
        "id": "Uw7W4tZa2xNi"
      },
      "source": [
        "#### 85. Create a 2D array subclass such that Z\\[i,j\\] == Z\\[j,i\\] (★★★) \n",
        "(**hint**: class method)"
      ]
    },
    {
      "cell_type": "code",
      "execution_count": null,
      "metadata": {
        "id": "6RXn11E12xNi"
      },
      "outputs": [],
      "source": []
    },
    {
      "cell_type": "markdown",
      "metadata": {
        "id": "c7c0Doj32xNj"
      },
      "source": [
        "#### 86. Consider a set of p matrices wich shape (n,n) and a set of p vectors with shape (n,1). How to compute the sum of of the p matrix products at once? (result has shape (n,1)) (★★★) \n",
        "(**hint**: np.tensordot)"
      ]
    },
    {
      "cell_type": "code",
      "execution_count": null,
      "metadata": {
        "id": "kY3BNAUN2xNj"
      },
      "outputs": [],
      "source": []
    },
    {
      "cell_type": "markdown",
      "metadata": {
        "id": "JF11P2bO2xNj"
      },
      "source": [
        "#### 87. Consider a 16x16 array, how to get the block-sum (block size is 4x4)? (★★★) \n",
        "(**hint**: np.add.reduceat)"
      ]
    },
    {
      "cell_type": "code",
      "execution_count": null,
      "metadata": {
        "id": "B1jfmYE42xNj"
      },
      "outputs": [],
      "source": []
    },
    {
      "cell_type": "markdown",
      "metadata": {
        "id": "5cfzc2lO2xNj"
      },
      "source": [
        "#### 88. How to implement the Game of Life using numpy arrays? (★★★)"
      ]
    },
    {
      "cell_type": "code",
      "execution_count": null,
      "metadata": {
        "id": "S2Bg6_CZ2xNj"
      },
      "outputs": [],
      "source": []
    },
    {
      "cell_type": "markdown",
      "metadata": {
        "id": "Yjf1Xmpe2xNj"
      },
      "source": [
        "#### 89. How to get the n largest values of an array (★★★) \n",
        "(**hint**: np.argsort | np.argpartition)"
      ]
    },
    {
      "cell_type": "code",
      "execution_count": null,
      "metadata": {
        "id": "UvD29A0U2xNj"
      },
      "outputs": [],
      "source": []
    },
    {
      "cell_type": "markdown",
      "metadata": {
        "id": "Cipuwdxk2xNk"
      },
      "source": [
        "#### 90. Given an arbitrary number of vectors, build the cartesian product (every combinations of every item) (★★★) \n",
        "(**hint**: np.indices)"
      ]
    },
    {
      "cell_type": "code",
      "execution_count": null,
      "metadata": {
        "scrolled": true,
        "id": "2ouTJl_Z2xNk"
      },
      "outputs": [],
      "source": []
    },
    {
      "cell_type": "markdown",
      "metadata": {
        "id": "TpLk2QZl2xNk"
      },
      "source": [
        "#### 91. How to create a record array from a regular array? (★★★) \n",
        "(**hint**: np.core.records.fromarrays)"
      ]
    },
    {
      "cell_type": "code",
      "execution_count": null,
      "metadata": {
        "id": "ldjZQsKu2xNk"
      },
      "outputs": [],
      "source": []
    },
    {
      "cell_type": "markdown",
      "metadata": {
        "id": "Cs7UKDhi2xNk"
      },
      "source": [
        "#### 92. Consider a large vector Z, compute Z to the power of 3 using 3 different methods (★★★) \n",
        "(**hint**: np.power, \\*, np.einsum)"
      ]
    },
    {
      "cell_type": "code",
      "execution_count": null,
      "metadata": {
        "id": "zK8IJbKS2xNk"
      },
      "outputs": [],
      "source": []
    },
    {
      "cell_type": "markdown",
      "metadata": {
        "id": "SyrAjKTD2xNk"
      },
      "source": [
        "#### 93. Consider two arrays A and B of shape (8,3) and (2,2). How to find rows of A that contain elements of each row of B regardless of the order of the elements in B? (★★★) \n",
        "(**hint**: np.where)"
      ]
    },
    {
      "cell_type": "code",
      "execution_count": null,
      "metadata": {
        "id": "vyKTLL6u2xNk"
      },
      "outputs": [],
      "source": []
    },
    {
      "cell_type": "markdown",
      "metadata": {
        "id": "kFhaWppK2xNk"
      },
      "source": [
        "#### 94. Considering a 10x3 matrix, extract rows with unequal values (e.g. \\[2,2,3\\]) (★★★)"
      ]
    },
    {
      "cell_type": "code",
      "execution_count": null,
      "metadata": {
        "id": "mahes7yS2xNk"
      },
      "outputs": [],
      "source": []
    },
    {
      "cell_type": "markdown",
      "metadata": {
        "id": "LdV2OmpF2xNk"
      },
      "source": [
        "#### 95. Convert a vector of ints into a matrix binary representation (★★★) \n",
        "(**hint**: np.unpackbits)"
      ]
    },
    {
      "cell_type": "code",
      "execution_count": null,
      "metadata": {
        "id": "1_a0JhEv2xNk"
      },
      "outputs": [],
      "source": []
    },
    {
      "cell_type": "markdown",
      "metadata": {
        "id": "k2VzEXAF2xNl"
      },
      "source": [
        "#### 96. Given a two dimensional array, how to extract unique rows? (★★★) \n",
        "(**hint**: np.ascontiguousarray)"
      ]
    },
    {
      "cell_type": "code",
      "execution_count": null,
      "metadata": {
        "id": "5BgGUZLE2xNl"
      },
      "outputs": [],
      "source": []
    },
    {
      "cell_type": "markdown",
      "metadata": {
        "id": "Q1SgHdvt2xNl"
      },
      "source": [
        "#### 97. Considering 2 vectors A & B, write the einsum equivalent of inner, outer, sum, and mul function (★★★) \n",
        "(**hint**: np.einsum)"
      ]
    },
    {
      "cell_type": "code",
      "execution_count": null,
      "metadata": {
        "id": "Af29nMiK2xNl"
      },
      "outputs": [],
      "source": []
    },
    {
      "cell_type": "markdown",
      "metadata": {
        "id": "RVHm1P-C2xNl"
      },
      "source": [
        "#### 98. Considering a path described by two vectors (X,Y), how to sample it using equidistant samples (★★★)? \n",
        "(**hint**: np.cumsum, np.interp)"
      ]
    },
    {
      "cell_type": "code",
      "execution_count": null,
      "metadata": {
        "collapsed": true,
        "id": "HCXS-bLq2xNl"
      },
      "outputs": [],
      "source": []
    },
    {
      "cell_type": "markdown",
      "metadata": {
        "id": "wiZPF9Jf2xNl"
      },
      "source": [
        "#### 99. Given an integer n and a 2D array X, select from X the rows which can be interpreted as draws from a multinomial distribution with n degrees, i.e., the rows which only contain integers and which sum to n. (★★★) \n",
        "(**hint**: np.logical\\_and.reduce, np.mod)"
      ]
    },
    {
      "cell_type": "code",
      "execution_count": null,
      "metadata": {
        "id": "D-IKazMI2xNl"
      },
      "outputs": [],
      "source": []
    },
    {
      "cell_type": "markdown",
      "metadata": {
        "id": "VGCkIYmo2xNl"
      },
      "source": [
        "#### 100. Compute bootstrapped 95% confidence intervals for the mean of a 1D array X (i.e., resample the elements of an array with replacement N times, compute the mean of each sample, and then compute percentiles over the means). (★★★) \n",
        "(**hint**: np.percentile)"
      ]
    },
    {
      "cell_type": "code",
      "execution_count": null,
      "metadata": {
        "id": "sm0DqZlk2xNl"
      },
      "outputs": [],
      "source": []
    }
  ],
  "metadata": {
    "kernelspec": {
      "display_name": "Python 3",
      "language": "python",
      "name": "python3"
    },
    "language_info": {
      "codemirror_mode": {
        "name": "ipython",
        "version": 3
      },
      "file_extension": ".py",
      "mimetype": "text/x-python",
      "name": "python",
      "nbconvert_exporter": "python",
      "pygments_lexer": "ipython3",
      "version": "3.8.3"
    },
    "colab": {
      "provenance": [],
      "include_colab_link": true
    }
  },
  "nbformat": 4,
  "nbformat_minor": 0
}